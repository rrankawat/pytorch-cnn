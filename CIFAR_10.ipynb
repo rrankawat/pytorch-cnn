{
  "cells": [
    {
      "cell_type": "markdown",
      "metadata": {
        "id": "view-in-github",
        "colab_type": "text"
      },
      "source": [
        "<a href=\"https://colab.research.google.com/github/rrankawat/pytorch-cnn/blob/main/CIFAR_10.ipynb\" target=\"_parent\"><img src=\"https://colab.research.google.com/assets/colab-badge.svg\" alt=\"Open In Colab\"/></a>"
      ]
    },
    {
      "cell_type": "markdown",
      "metadata": {
        "id": "r4Puug5jToW9"
      },
      "source": [
        "# Key characteristics of CIFAR-10:\n",
        "* Size: 60,000 images.\n",
        "* Dimensions: Each image is 32 pixels by 32 pixels.\n",
        "* Color: Images are in color, with RGB channels.\n",
        "* Classes: 10 distinct categories of objects.\n",
        "* Data Split: A standard configuration uses 50,000 images for training and 10,000 images for testing.\n",
        "### Examples of the 10 classes:\n",
        "* Airplane, Automobile, Bird, Cat, Deer, Dog, Frog, Horse, Ship, and Truck."
      ]
    },
    {
      "cell_type": "code",
      "execution_count": 55,
      "metadata": {
        "id": "2bJcv6nPS9hr"
      },
      "outputs": [],
      "source": [
        "import torch\n",
        "import torch.nn as nn\n",
        "import torch.nn.functional as F\n",
        "import torch.optim as optim\n",
        "from torch.utils.data import DataLoader\n",
        "from torchvision import datasets, transforms\n",
        "import time\n",
        "import numpy as np\n",
        "import matplotlib.pyplot as plt\n",
        "%matplotlib inline"
      ]
    },
    {
      "cell_type": "markdown",
      "metadata": {
        "id": "Vd43FkxgVEp1"
      },
      "source": [
        "##### Transform, Data Loading & Converting To Batches"
      ]
    },
    {
      "cell_type": "code",
      "execution_count": 56,
      "metadata": {
        "id": "8C0AlDHBn0Un"
      },
      "outputs": [],
      "source": [
        "train_transform = transforms.Compose([\n",
        "    transforms.RandomHorizontalFlip(),\n",
        "    transforms.RandomCrop(32, padding=4),\n",
        "    transforms.ColorJitter(brightness=0.2, contrast=0.2, saturation=0.2, hue=0.1),\n",
        "    transforms.RandomRotation(15),\n",
        "    transforms.ToTensor(),\n",
        "    transforms.Normalize((0.5,0.5,0.5),(0.5,0.5,0.5))\n",
        "])\n",
        "\n",
        "test_transform = transforms.Compose([\n",
        "    transforms.ToTensor(),\n",
        "    transforms.Normalize((0.5,0.5,0.5),(0.5,0.5,0.5))\n",
        "])"
      ]
    },
    {
      "cell_type": "code",
      "execution_count": 57,
      "metadata": {
        "id": "-i4UdiHXUtDl"
      },
      "outputs": [],
      "source": [
        "train_data = datasets.CIFAR10(root='./data', train=True, download=True, transform=train_transform)\n",
        "test_data = datasets.CIFAR10(root='./data', train=False, download=True, transform=test_transform)\n",
        "\n",
        "train_loader = DataLoader(train_data, batch_size=100, shuffle=True)\n",
        "test_loader = DataLoader(test_data, batch_size=100, shuffle=False)"
      ]
    },
    {
      "cell_type": "markdown",
      "metadata": {
        "id": "SPfiPZkwVUPX"
      },
      "source": [
        "##### CNN Model"
      ]
    },
    {
      "cell_type": "code",
      "execution_count": 58,
      "metadata": {
        "id": "MN9z5V-gVVzX"
      },
      "outputs": [],
      "source": [
        "class CIFARConvNet(nn.Module):\n",
        "    def __init__(self):\n",
        "        super().__init__()\n",
        "        self.conv1 = nn.Conv2d(3, 16, 3, padding=1)  # 3×32×32  -> 16×32×32\n",
        "        self.bn1 = nn.BatchNorm2d(16)\n",
        "        self.conv2 = nn.Conv2d(16, 32, 3, padding=1) # 16×16×16 -> 32×16×16\n",
        "        self.bn2 = nn.BatchNorm2d(32)\n",
        "        self.conv3 = nn.Conv2d(32, 64, 3, padding=1) # 32×8×8   -> 64×8×8\n",
        "        self.bn3 = nn.BatchNorm2d(64)\n",
        "        self.conv4 = nn.Conv2d(64, 128, 3, padding=1) # 64x4x4 -> 128x4x4\n",
        "        self.bn4 = nn.BatchNorm2d(128)\n",
        "\n",
        "\n",
        "        self.fc1 = nn.Linear(128 * 2 * 2, 256)\n",
        "        self.fc2 = nn.Linear(256, 10)\n",
        "        self.dropout = nn.Dropout(0.25)\n",
        "\n",
        "    def forward(self, x):\n",
        "        # Conv1 + Pool\n",
        "        x = F.relu(self.bn1(self.conv1(x)))\n",
        "        x = F.max_pool2d(x, 2)\n",
        "\n",
        "        # Conv2 + Pool\n",
        "        x = F.relu(self.bn2(self.conv2(x)))\n",
        "        x = F.max_pool2d(x, 2)\n",
        "\n",
        "        # Conv3 + Pool\n",
        "        x = F.relu(self.bn3(self.conv3(x)))\n",
        "        x = F.max_pool2d(x, 2)\n",
        "\n",
        "        # Conv4 + Pool\n",
        "        x = F.relu(self.bn4(self.conv4(x)))\n",
        "        x = F.max_pool2d(x, 2)\n",
        "\n",
        "        # Flatten\n",
        "        x = x.view(-1, 128 * 2 * 2)\n",
        "\n",
        "        # Fully connected\n",
        "        x = F.relu(self.fc1(x))\n",
        "        x = self.dropout(x)\n",
        "        x = self.fc2(x)\n",
        "\n",
        "        return F.log_softmax(x, dim=1)"
      ]
    },
    {
      "cell_type": "markdown",
      "metadata": {
        "id": "N6sMikZeYbT5"
      },
      "source": [
        "##### Random Seeds and Model Instance"
      ]
    },
    {
      "cell_type": "code",
      "execution_count": 59,
      "metadata": {
        "id": "JTm92IjHYaM2"
      },
      "outputs": [],
      "source": [
        "torch.manual_seed(41)\n",
        "model = CIFARConvNet()"
      ]
    },
    {
      "cell_type": "markdown",
      "metadata": {
        "id": "o7jgV6b3Y67n"
      },
      "source": [
        "##### Loss & Optimizer"
      ]
    },
    {
      "cell_type": "code",
      "execution_count": 60,
      "metadata": {
        "id": "SKgdf-iCZJ0h"
      },
      "outputs": [],
      "source": [
        "criterion = nn.CrossEntropyLoss()\n",
        "optimizer = torch.optim.Adam(model.parameters(), lr=0.001)"
      ]
    },
    {
      "cell_type": "markdown",
      "metadata": {
        "id": "FzMkBqX0ZNQT"
      },
      "source": [
        "##### Time Function"
      ]
    },
    {
      "cell_type": "code",
      "execution_count": 61,
      "metadata": {
        "id": "XsaO_BZoZOnx"
      },
      "outputs": [],
      "source": [
        "def totalTime(start_time):\n",
        "  current_time = time.time()\n",
        "  total_time = (current_time - start_time) / 60\n",
        "  return round(total_time, 2)"
      ]
    },
    {
      "cell_type": "markdown",
      "metadata": {
        "id": "0urPgOg6ZSVY"
      },
      "source": [
        "##### Model Training & Testing"
      ]
    },
    {
      "cell_type": "code",
      "execution_count": 62,
      "metadata": {
        "id": "b8jFWHfZZRys"
      },
      "outputs": [],
      "source": [
        "# Variables to track things\n",
        "epochs = 30\n",
        "train_losses = []\n",
        "train_correct = []\n",
        "test_losses = []\n",
        "test_correct = []"
      ]
    },
    {
      "cell_type": "code",
      "execution_count": 63,
      "metadata": {
        "id": "vNHBi_jQZYJb"
      },
      "outputs": [],
      "source": [
        "# -------------------\n",
        "# Training function\n",
        "# -------------------\n",
        "def train(epoch, model, train_loader, criterion, optimizer):\n",
        "  model.train()\n",
        "\n",
        "  trn_corr = 0\n",
        "\n",
        "  for b, (X_train, y_train) in enumerate(train_loader):\n",
        "    b += 1\n",
        "    y_pred = model(X_train)\n",
        "    loss = criterion(y_pred, y_train)\n",
        "    predicted = torch.max(y_pred.data, 1)[1]\n",
        "    trn_corr += (predicted == y_train).sum()\n",
        "\n",
        "    # Back-propagation & Update parameters\n",
        "    optimizer.zero_grad()\n",
        "    loss.backward()\n",
        "    optimizer.step()\n",
        "\n",
        "    # Print out results\n",
        "    if b % 250 == 0:\n",
        "      print(f\"Epoch: {epoch + 1} [{b * len(X_train)}/{len(train_loader.dataset)} \"\n",
        "            f\"({100. * b / len(train_loader):.0f}%)]\\tLoss: {loss.item():.6f}\")\n",
        "\n",
        "  print(\"\\n\")\n",
        "  train_losses.append(loss)\n",
        "  train_correct.append(trn_corr)"
      ]
    },
    {
      "cell_type": "code",
      "execution_count": 64,
      "metadata": {
        "id": "umwTsX0pZblu"
      },
      "outputs": [],
      "source": [
        "# -------------------\n",
        "# Test function\n",
        "# -------------------\n",
        "def test(model, test_loader, criterion, optimizer):\n",
        "  model.eval()\n",
        "  tst_corr = 0\n",
        "\n",
        "  with torch.no_grad():\n",
        "    for X_test, y_test in test_loader:\n",
        "      y_val = model(X_test)\n",
        "      predicted = torch.max(y_val.data, 1)[1]\n",
        "      tst_corr += (predicted == y_test).sum()\n",
        "\n",
        "  loss = criterion(y_val, y_test)\n",
        "  test_losses.append(loss)\n",
        "  test_correct.append(tst_corr)"
      ]
    },
    {
      "cell_type": "code",
      "execution_count": 65,
      "metadata": {
        "colab": {
          "base_uri": "https://localhost:8080/"
        },
        "id": "JqBAeqMPZdkl",
        "outputId": "2a722fcb-88f4-4e5a-c42d-1febe247a8fc"
      },
      "outputs": [
        {
          "output_type": "stream",
          "name": "stdout",
          "text": [
            "Epoch: 1 [25000/50000 (50%)]\tLoss: 1.414925\n",
            "Epoch: 1 [50000/50000 (100%)]\tLoss: 1.385965\n",
            "\n",
            "\n",
            "Epoch: 2 [25000/50000 (50%)]\tLoss: 1.172609\n",
            "Epoch: 2 [50000/50000 (100%)]\tLoss: 1.193022\n",
            "\n",
            "\n",
            "Epoch: 3 [25000/50000 (50%)]\tLoss: 1.120958\n",
            "Epoch: 3 [50000/50000 (100%)]\tLoss: 1.162348\n",
            "\n",
            "\n",
            "Epoch: 4 [25000/50000 (50%)]\tLoss: 0.931967\n",
            "Epoch: 4 [50000/50000 (100%)]\tLoss: 1.043544\n",
            "\n",
            "\n",
            "Epoch: 5 [25000/50000 (50%)]\tLoss: 1.060683\n",
            "Epoch: 5 [50000/50000 (100%)]\tLoss: 1.154295\n",
            "\n",
            "\n",
            "Epoch: 6 [25000/50000 (50%)]\tLoss: 0.882245\n",
            "Epoch: 6 [50000/50000 (100%)]\tLoss: 0.810037\n",
            "\n",
            "\n",
            "Epoch: 7 [25000/50000 (50%)]\tLoss: 0.869381\n",
            "Epoch: 7 [50000/50000 (100%)]\tLoss: 1.124540\n",
            "\n",
            "\n",
            "Epoch: 8 [25000/50000 (50%)]\tLoss: 0.882398\n",
            "Epoch: 8 [50000/50000 (100%)]\tLoss: 0.705869\n",
            "\n",
            "\n",
            "Epoch: 9 [25000/50000 (50%)]\tLoss: 0.830727\n",
            "Epoch: 9 [50000/50000 (100%)]\tLoss: 0.853536\n",
            "\n",
            "\n",
            "Epoch: 10 [25000/50000 (50%)]\tLoss: 0.767046\n",
            "Epoch: 10 [50000/50000 (100%)]\tLoss: 0.977666\n",
            "\n",
            "\n",
            "Epoch: 11 [25000/50000 (50%)]\tLoss: 0.852064\n",
            "Epoch: 11 [50000/50000 (100%)]\tLoss: 0.715889\n",
            "\n",
            "\n",
            "Epoch: 12 [25000/50000 (50%)]\tLoss: 0.674331\n",
            "Epoch: 12 [50000/50000 (100%)]\tLoss: 0.927795\n",
            "\n",
            "\n",
            "Epoch: 13 [25000/50000 (50%)]\tLoss: 0.768866\n",
            "Epoch: 13 [50000/50000 (100%)]\tLoss: 0.824552\n",
            "\n",
            "\n",
            "Epoch: 14 [25000/50000 (50%)]\tLoss: 0.702672\n",
            "Epoch: 14 [50000/50000 (100%)]\tLoss: 0.938833\n",
            "\n",
            "\n",
            "Epoch: 15 [25000/50000 (50%)]\tLoss: 0.666452\n",
            "Epoch: 15 [50000/50000 (100%)]\tLoss: 0.888776\n",
            "\n",
            "\n",
            "Epoch: 16 [25000/50000 (50%)]\tLoss: 0.617923\n",
            "Epoch: 16 [50000/50000 (100%)]\tLoss: 0.808820\n",
            "\n",
            "\n",
            "Epoch: 17 [25000/50000 (50%)]\tLoss: 0.975570\n",
            "Epoch: 17 [50000/50000 (100%)]\tLoss: 0.667821\n",
            "\n",
            "\n",
            "Epoch: 18 [25000/50000 (50%)]\tLoss: 0.676478\n",
            "Epoch: 18 [50000/50000 (100%)]\tLoss: 0.640994\n",
            "\n",
            "\n",
            "Epoch: 19 [25000/50000 (50%)]\tLoss: 0.767609\n",
            "Epoch: 19 [50000/50000 (100%)]\tLoss: 0.720094\n",
            "\n",
            "\n",
            "Epoch: 20 [25000/50000 (50%)]\tLoss: 0.865391\n",
            "Epoch: 20 [50000/50000 (100%)]\tLoss: 0.643500\n",
            "\n",
            "\n",
            "Epoch: 21 [25000/50000 (50%)]\tLoss: 0.918387\n",
            "Epoch: 21 [50000/50000 (100%)]\tLoss: 0.780046\n",
            "\n",
            "\n",
            "Epoch: 22 [25000/50000 (50%)]\tLoss: 0.609514\n",
            "Epoch: 22 [50000/50000 (100%)]\tLoss: 0.658282\n",
            "\n",
            "\n",
            "Epoch: 23 [25000/50000 (50%)]\tLoss: 0.781488\n",
            "Epoch: 23 [50000/50000 (100%)]\tLoss: 0.792146\n",
            "\n",
            "\n",
            "Epoch: 24 [25000/50000 (50%)]\tLoss: 0.843733\n",
            "Epoch: 24 [50000/50000 (100%)]\tLoss: 0.602384\n",
            "\n",
            "\n",
            "Epoch: 25 [25000/50000 (50%)]\tLoss: 0.833779\n",
            "Epoch: 25 [50000/50000 (100%)]\tLoss: 0.829954\n",
            "\n",
            "\n",
            "Epoch: 26 [25000/50000 (50%)]\tLoss: 0.737949\n",
            "Epoch: 26 [50000/50000 (100%)]\tLoss: 0.649502\n",
            "\n",
            "\n",
            "Epoch: 27 [25000/50000 (50%)]\tLoss: 0.868347\n",
            "Epoch: 27 [50000/50000 (100%)]\tLoss: 0.803057\n",
            "\n",
            "\n",
            "Epoch: 28 [25000/50000 (50%)]\tLoss: 0.568706\n",
            "Epoch: 28 [50000/50000 (100%)]\tLoss: 0.778522\n",
            "\n",
            "\n",
            "Epoch: 29 [25000/50000 (50%)]\tLoss: 0.500006\n",
            "Epoch: 29 [50000/50000 (100%)]\tLoss: 0.599866\n",
            "\n",
            "\n",
            "Epoch: 30 [25000/50000 (50%)]\tLoss: 0.833414\n",
            "Epoch: 30 [50000/50000 (100%)]\tLoss: 0.740090\n",
            "\n",
            "\n",
            "Time taken: 44.87 minutes!\n"
          ]
        }
      ],
      "source": [
        "# Training Run Epochs\n",
        "start_time = time.time()\n",
        "\n",
        "for epoch in range(epochs):\n",
        "  train(epoch, model, train_loader, criterion, optimizer)\n",
        "\n",
        "print(f'Time taken: {totalTime(start_time)} minutes!')"
      ]
    },
    {
      "cell_type": "code",
      "source": [
        "# Testing Run Epochs\n",
        "start_time = time.time()\n",
        "\n",
        "for epoch in range(epochs):\n",
        "  test(model, test_loader, criterion, optimizer)\n",
        "\n",
        "print(f'Time taken: {totalTime(start_time)} minutes!')"
      ],
      "metadata": {
        "colab": {
          "base_uri": "https://localhost:8080/"
        },
        "id": "lH9OiQo8rdW1",
        "outputId": "9cab2d5e-941e-48ad-80ea-33c074accdd8"
      },
      "execution_count": 66,
      "outputs": [
        {
          "output_type": "stream",
          "name": "stdout",
          "text": [
            "Time taken: 2.8 minutes!\n"
          ]
        }
      ]
    },
    {
      "cell_type": "markdown",
      "metadata": {
        "id": "pcipK8fkZnHU"
      },
      "source": [
        "##### Plots"
      ]
    },
    {
      "cell_type": "code",
      "execution_count": 67,
      "metadata": {
        "colab": {
          "base_uri": "https://localhost:8080/",
          "height": 469
        },
        "id": "USkWMEsLZltT",
        "outputId": "fed3cfae-5841-4204-fda3-d07a8de87348"
      },
      "outputs": [
        {
          "output_type": "execute_result",
          "data": {
            "text/plain": [
              "<matplotlib.legend.Legend at 0x7ded8f0234a0>"
            ]
          },
          "metadata": {},
          "execution_count": 67
        },
        {
          "output_type": "display_data",
          "data": {
            "text/plain": [
              "<Figure size 640x480 with 1 Axes>"
            ],
            "image/png": "[encoded data removed]"
          },
          "metadata": {}
        }
      ],
      "source": [
        "# ------------------------\n",
        "# Plot the loss at each Epoch\n",
        "# ------------------------\n",
        "plt.plot([loss.detach().numpy() for loss in train_losses], label='Training Loss')\n",
        "plt.plot([loss.detach().numpy() for loss in test_losses], label='Testing Loss')\n",
        "plt.title('Loss at Epoch')\n",
        "plt.legend()"
      ]
    },
    {
      "cell_type": "code",
      "execution_count": 68,
      "metadata": {
        "colab": {
          "base_uri": "https://localhost:8080/",
          "height": 469
        },
        "id": "Dd_OJgN5Z2Er",
        "outputId": "54513a84-912d-4c62-ff0f-15a6523572e8"
      },
      "outputs": [
        {
          "output_type": "execute_result",
          "data": {
            "text/plain": [
              "<matplotlib.legend.Legend at 0x7ded8f25c8c0>"
            ]
          },
          "metadata": {},
          "execution_count": 68
        },
        {
          "output_type": "display_data",
          "data": {
            "text/plain": [
              "<Figure size 640x480 with 1 Axes>"
            ],
            "image/png": "[encoded data removed]"
          },
          "metadata": {}
        }
      ],
      "source": [
        "# --------------------------------------------\n",
        "# Plot the accuracy at the end of each Epoch\n",
        "# --------------------------------------------\n",
        "plt.plot([t/600 for t in train_correct], label='Training Accuracy')\n",
        "plt.plot([t/100 for t in test_correct], label='Testing Accuracy')\n",
        "plt.title('Accuracy at Epoch')\n",
        "plt.legend()"
      ]
    },
    {
      "cell_type": "markdown",
      "metadata": {
        "id": "uYqPzMTkZ4eY"
      },
      "source": [
        "##### Test Accuracy"
      ]
    },
    {
      "cell_type": "code",
      "execution_count": 69,
      "metadata": {
        "id": "cYXDkUYyrVxV"
      },
      "outputs": [],
      "source": [
        "classes = ('plane', 'car', 'bird', 'cat', 'deer', 'dog', 'frog', 'horse', 'ship', 'truck')"
      ]
    },
    {
      "cell_type": "code",
      "execution_count": 70,
      "metadata": {
        "id": "Y3k6_CqoZ59b"
      },
      "outputs": [],
      "source": [
        "with torch.no_grad():\n",
        "  correct = 0\n",
        "  for X_test, y_test in test_loader:\n",
        "    y_val = model(X_test)\n",
        "    predicted = torch.max(y_val, 1)[1]\n",
        "    correct += (predicted == y_test).sum()"
      ]
    },
    {
      "cell_type": "code",
      "execution_count": 71,
      "metadata": {
        "colab": {
          "base_uri": "https://localhost:8080/"
        },
        "id": "SVth_EAMZ9Kz",
        "outputId": "b47adf02-6eed-4d14-b172-34fab6463d82"
      },
      "outputs": [
        {
          "output_type": "stream",
          "name": "stdout",
          "text": [
            "Test Accuracy: 79.99%\n"
          ]
        }
      ],
      "source": [
        "# Test for correct\n",
        "correct.item() / len(test_data) * 100\n",
        "print(f'Test Accuracy: {round(correct.item()/len(test_data) * 100, 2)}%')"
      ]
    },
    {
      "cell_type": "markdown",
      "metadata": {
        "id": "bDlgG-bvqkBg"
      },
      "source": [
        "##### Test on New Images"
      ]
    },
    {
      "cell_type": "code",
      "execution_count": 72,
      "metadata": {
        "colab": {
          "base_uri": "https://localhost:8080/",
          "height": 447
        },
        "id": "_DngjzyQqmhZ",
        "outputId": "b23a1387-f6c3-44d3-db98-f57bd91b6293"
      },
      "outputs": [
        {
          "output_type": "execute_result",
          "data": {
            "text/plain": [
              "<matplotlib.image.AxesImage at 0x7ded87e660c0>"
            ]
          },
          "metadata": {},
          "execution_count": 72
        },
        {
          "output_type": "display_data",
          "data": {
            "text/plain": [
              "<Figure size 640x480 with 1 Axes>"
            ],
            "image/png": "[encoded data removed]"
          },
          "metadata": {}
        }
      ],
      "source": [
        "# Taking an Test Image 1\n",
        "test_image1 = test_data[4143][0]\n",
        "# Unnormalize the image\n",
        "test_image1 = test_image1 * 0.5 + 0.5\n",
        "plt.imshow(test_image1.permute(1, 2, 0))"
      ]
    },
    {
      "cell_type": "code",
      "execution_count": 73,
      "metadata": {
        "colab": {
          "base_uri": "https://localhost:8080/",
          "height": 35
        },
        "id": "h6CjyFAOqpbP",
        "outputId": "2561b25a-60a8-4c77-de9b-875002975c37"
      },
      "outputs": [
        {
          "output_type": "execute_result",
          "data": {
            "text/plain": [
              "'dog'"
            ],
            "application/vnd.google.colaboratory.intrinsic+json": {
              "type": "string"
            }
          },
          "metadata": {},
          "execution_count": 73
        }
      ],
      "source": [
        "# New Prediction: Passing the image through our model\n",
        "model.eval()\n",
        "\n",
        "with torch.no_grad():\n",
        "  output = model(test_image1.view(1, 3, 32, 32))\n",
        "\n",
        "# Check the new prediction\n",
        "classes[output.argmax()]"
      ]
    },
    {
      "cell_type": "code",
      "execution_count": 74,
      "metadata": {
        "colab": {
          "base_uri": "https://localhost:8080/",
          "height": 447
        },
        "id": "PV5SyzI8rm4W",
        "outputId": "5fa5edbc-3e47-4bff-c7f2-18de47ad0e61"
      },
      "outputs": [
        {
          "output_type": "execute_result",
          "data": {
            "text/plain": [
              "<matplotlib.image.AxesImage at 0x7dee9eabbe60>"
            ]
          },
          "metadata": {},
          "execution_count": 74
        },
        {
          "output_type": "display_data",
          "data": {
            "text/plain": [
              "<Figure size 640x480 with 1 Axes>"
            ],
            "image/png": "[encoded data removed]"
          },
          "metadata": {}
        }
      ],
      "source": [
        "# Taking an Test Image 2\n",
        "test_image1 = test_data[3331][0]\n",
        "# Unnormalize the image\n",
        "test_image1 = test_image1 * 0.5 + 0.5\n",
        "plt.imshow(test_image1.permute(1, 2, 0))"
      ]
    },
    {
      "cell_type": "code",
      "execution_count": 75,
      "metadata": {
        "colab": {
          "base_uri": "https://localhost:8080/",
          "height": 35
        },
        "id": "WSRPbhvsrsLm",
        "outputId": "6dd284b7-58df-4223-addf-8c2b34f6ef95"
      },
      "outputs": [
        {
          "output_type": "execute_result",
          "data": {
            "text/plain": [
              "'ship'"
            ],
            "application/vnd.google.colaboratory.intrinsic+json": {
              "type": "string"
            }
          },
          "metadata": {},
          "execution_count": 75
        }
      ],
      "source": [
        "# New Prediction: Passing the image through our model\n",
        "model.eval()\n",
        "\n",
        "with torch.no_grad():\n",
        "  output = model(test_image1.view(1, 3, 32, 32))\n",
        "\n",
        "# Check the new prediction\n",
        "classes[output.argmax()]"
      ]
    }
  ],
  "metadata": {
    "accelerator": "GPU",
    "colab": {
      "gpuType": "T4",
      "provenance": [],
      "authorship_tag": "ABX9TyNSszZD3EWVFS6/r02HmXff",
      "include_colab_link": true
    },
    "kernelspec": {
      "display_name": "Python 3",
      "name": "python3"
    },
    "language_info": {
      "name": "python"
    }
  },
  "nbformat": 4,
  "nbformat_minor": 0
}