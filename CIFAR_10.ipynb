{
  "cells": [
    {
      "cell_type": "markdown",
      "metadata": {
        "id": "view-in-github",
        "colab_type": "text"
      },
      "source": [
        "<a href=\"https://colab.research.google.com/github/rrankawat/pytorch-cnn/blob/main/CIFAR_10.ipynb\" target=\"_parent\"><img src=\"https://colab.research.google.com/assets/colab-badge.svg\" alt=\"Open In Colab\"/></a>"
      ]
    },
    {
      "cell_type": "markdown",
      "metadata": {
        "id": "r4Puug5jToW9"
      },
      "source": [
        "# Key characteristics of CIFAR-10:\n",
        "* Size: 60,000 images.\n",
        "* Dimensions: Each image is 32 pixels by 32 pixels.\n",
        "* Color: Images are in color, with RGB channels.\n",
        "* Classes: 10 distinct categories of objects.\n",
        "* Data Split: A standard configuration uses 50,000 images for training and 10,000 images for testing.\n",
        "### Examples of the 10 classes:\n",
        "* Airplane, Automobile, Bird, Cat, Deer, Dog, Frog, Horse, Ship, and Truck."
      ]
    },
    {
      "cell_type": "code",
      "execution_count": 1,
      "metadata": {
        "id": "2bJcv6nPS9hr"
      },
      "outputs": [],
      "source": [
        "import torch\n",
        "import torch.nn as nn\n",
        "import torch.nn.functional as F\n",
        "import torch.optim as optim\n",
        "from torch.utils.data import DataLoader\n",
        "from torchvision import datasets, transforms\n",
        "import time\n",
        "import numpy as np\n",
        "import matplotlib.pyplot as plt\n",
        "%matplotlib inline"
      ]
    },
    {
      "cell_type": "markdown",
      "metadata": {
        "id": "Vd43FkxgVEp1"
      },
      "source": [
        "##### Transform, Data Loading & Converting To Batches"
      ]
    },
    {
      "cell_type": "code",
      "execution_count": 2,
      "metadata": {
        "id": "8C0AlDHBn0Un"
      },
      "outputs": [],
      "source": [
        "train_transform = transforms.Compose([\n",
        "    transforms.RandomHorizontalFlip(),\n",
        "    transforms.RandomCrop(32, padding=4),\n",
        "    transforms.ColorJitter(brightness=0.2, contrast=0.2, saturation=0.2),\n",
        "    transforms.ToTensor(),\n",
        "    transforms.Normalize((0.5, 0.5, 0.5), (0.5, 0.5, 0.5))\n",
        "])\n",
        "\n",
        "test_transform = transforms.Compose([\n",
        "    transforms.ToTensor(),\n",
        "    transforms.Normalize((0.5, 0.5, 0.5), (0.5, 0.5, 0.5))\n",
        "])"
      ]
    },
    {
      "cell_type": "code",
      "execution_count": 3,
      "metadata": {
        "id": "-i4UdiHXUtDl",
        "colab": {
          "base_uri": "https://localhost:8080/"
        },
        "outputId": "f6b5fa1d-7193-4c3a-9fe1-c885893763cb"
      },
      "outputs": [
        {
          "output_type": "stream",
          "name": "stderr",
          "text": [
            "100%|██████████| 170M/170M [00:04<00:00, 41.8MB/s]\n"
          ]
        }
      ],
      "source": [
        "train_data = datasets.CIFAR10(root='./data', train=True, download=True, transform=train_transform)\n",
        "test_data = datasets.CIFAR10(root='./data', train=False, download=True, transform=test_transform)\n",
        "\n",
        "train_loader = DataLoader(train_data, batch_size=128, shuffle=True)\n",
        "test_loader = DataLoader(test_data, batch_size=128, shuffle=False)"
      ]
    },
    {
      "cell_type": "markdown",
      "metadata": {
        "id": "SPfiPZkwVUPX"
      },
      "source": [
        "##### CNN Model"
      ]
    },
    {
      "cell_type": "code",
      "execution_count": 4,
      "metadata": {
        "id": "MN9z5V-gVVzX"
      },
      "outputs": [],
      "source": [
        "class CIFARConvNet(nn.Module):\n",
        "    def __init__(self):\n",
        "        super().__init__()\n",
        "        self.conv1 = nn.Conv2d(3, 16, 3, padding=1)   # -> 16x32x32\n",
        "        self.bn1 = nn.BatchNorm2d(16)\n",
        "        self.conv2 = nn.Conv2d(16, 32, 3, padding=1)  # -> 64x32x32\n",
        "        self.bn2 = nn.BatchNorm2d(32)\n",
        "        self.conv3 = nn.Conv2d(32, 64, 3, padding=1) # -> 64x32x32\n",
        "        self.bn3 = nn.BatchNorm2d(64)\n",
        "        self.conv4 = nn.Conv2d(64, 128, 3, padding=1) # -> 128x32x32\n",
        "        self.bn4 = nn.BatchNorm2d(128)\n",
        "\n",
        "        self.fc1 = nn.Linear(128*2*2, 256)\n",
        "        self.fc2 = nn.Linear(256, 10)\n",
        "\n",
        "        self.dropout = nn.Dropout(0.25)\n",
        "\n",
        "    def forward(self, x):\n",
        "        # Block 1\n",
        "        x = F.relu(self.bn1(self.conv1(x)))\n",
        "        x = F.max_pool2d(x, 2, 2)  # 32 -> 16\n",
        "\n",
        "        # Block 2\n",
        "        x = F.relu(self.bn2(self.conv2(x)))\n",
        "        x = F.max_pool2d(x, 2, 2)  # 16 -> 8\n",
        "\n",
        "        # Block 3\n",
        "        x = F.relu(self.bn3(self.conv3(x)))\n",
        "        x = F.max_pool2d(x, 2, 2)  # 8 -> 4\n",
        "\n",
        "        # Block 4\n",
        "        x = F.relu(self.bn4(self.conv4(x)))\n",
        "        x = F.max_pool2d(x, 2, 2)  # 4 -> 2\n",
        "\n",
        "        # Flatten\n",
        "        x = x.view(-1, 128*2*2)\n",
        "\n",
        "        # Fully connected\n",
        "        x = F.relu(self.fc1(x))\n",
        "        x = self.dropout(x)\n",
        "        x = self.fc2(x)\n",
        "        return x"
      ]
    },
    {
      "cell_type": "markdown",
      "metadata": {
        "id": "N6sMikZeYbT5"
      },
      "source": [
        "##### Random Seeds and Model Instance"
      ]
    },
    {
      "cell_type": "code",
      "execution_count": 5,
      "metadata": {
        "id": "JTm92IjHYaM2"
      },
      "outputs": [],
      "source": [
        "torch.manual_seed(41)\n",
        "model = CIFARConvNet()"
      ]
    },
    {
      "cell_type": "markdown",
      "metadata": {
        "id": "o7jgV6b3Y67n"
      },
      "source": [
        "##### Loss & Optimizer"
      ]
    },
    {
      "cell_type": "code",
      "execution_count": 6,
      "metadata": {
        "id": "SKgdf-iCZJ0h"
      },
      "outputs": [],
      "source": [
        "criterion = nn.CrossEntropyLoss()\n",
        "optimizer = torch.optim.Adam(model.parameters(), lr=0.001)"
      ]
    },
    {
      "cell_type": "markdown",
      "metadata": {
        "id": "FzMkBqX0ZNQT"
      },
      "source": [
        "##### Time Function"
      ]
    },
    {
      "cell_type": "code",
      "execution_count": 7,
      "metadata": {
        "id": "XsaO_BZoZOnx"
      },
      "outputs": [],
      "source": [
        "def totalTime(start_time):\n",
        "  current_time = time.time()\n",
        "  total_time = (current_time - start_time) / 60\n",
        "  return round(total_time, 2)"
      ]
    },
    {
      "cell_type": "markdown",
      "metadata": {
        "id": "0urPgOg6ZSVY"
      },
      "source": [
        "##### Model Training & Testing"
      ]
    },
    {
      "cell_type": "code",
      "execution_count": 8,
      "metadata": {
        "id": "b8jFWHfZZRys"
      },
      "outputs": [],
      "source": [
        "# Variables to track things\n",
        "epochs = 50\n",
        "train_losses = []\n",
        "train_correct = []\n",
        "test_losses = []\n",
        "test_correct = []"
      ]
    },
    {
      "cell_type": "code",
      "execution_count": 9,
      "metadata": {
        "id": "vNHBi_jQZYJb"
      },
      "outputs": [],
      "source": [
        "# -------------------\n",
        "# Training function\n",
        "# -------------------\n",
        "def train(epoch, model, train_loader, criterion, optimizer):\n",
        "  model.train()\n",
        "\n",
        "  trn_corr = 0\n",
        "\n",
        "  for b, (X_train, y_train) in enumerate(train_loader):\n",
        "    b += 1\n",
        "    y_pred = model(X_train)\n",
        "    loss = criterion(y_pred, y_train)\n",
        "    predicted = torch.max(y_pred.data, 1)[1]\n",
        "    trn_corr += (predicted == y_train).sum()\n",
        "\n",
        "    # Back-propagation & Update parameters\n",
        "    optimizer.zero_grad()\n",
        "    loss.backward()\n",
        "    optimizer.step()\n",
        "\n",
        "  # Print out results\n",
        "  print(f\"Epoch: {epoch + 1} \\tLoss: {loss.item():.6f}\")\n",
        "\n",
        "  train_losses.append(loss)\n",
        "  train_correct.append(trn_corr)"
      ]
    },
    {
      "cell_type": "code",
      "execution_count": 10,
      "metadata": {
        "id": "umwTsX0pZblu"
      },
      "outputs": [],
      "source": [
        "# -------------------\n",
        "# Test function\n",
        "# -------------------\n",
        "def test(model, test_loader, criterion, optimizer):\n",
        "  model.eval()\n",
        "  tst_corr = 0\n",
        "\n",
        "  with torch.no_grad():\n",
        "    for X_test, y_test in test_loader:\n",
        "      y_val = model(X_test)\n",
        "      predicted = torch.max(y_val.data, 1)[1]\n",
        "      tst_corr += (predicted == y_test).sum()\n",
        "\n",
        "  loss = criterion(y_val, y_test)\n",
        "  test_losses.append(loss)\n",
        "  test_correct.append(tst_corr)"
      ]
    },
    {
      "cell_type": "code",
      "execution_count": 11,
      "metadata": {
        "colab": {
          "base_uri": "https://localhost:8080/"
        },
        "id": "JqBAeqMPZdkl",
        "outputId": "bc7029c9-ac41-46de-fe65-96bc270af30a"
      },
      "outputs": [
        {
          "output_type": "stream",
          "name": "stdout",
          "text": [
            "Epoch: 1 \tLoss: 1.168572\n",
            "Epoch: 2 \tLoss: 0.984756\n",
            "Epoch: 3 \tLoss: 0.923161\n",
            "Epoch: 4 \tLoss: 0.882428\n",
            "Epoch: 5 \tLoss: 0.678669\n",
            "Epoch: 6 \tLoss: 0.976379\n",
            "Epoch: 7 \tLoss: 0.643866\n",
            "Epoch: 8 \tLoss: 0.770367\n",
            "Epoch: 9 \tLoss: 0.820889\n",
            "Epoch: 10 \tLoss: 0.594798\n",
            "Epoch: 11 \tLoss: 0.624295\n",
            "Epoch: 12 \tLoss: 0.691204\n",
            "Epoch: 13 \tLoss: 0.662888\n",
            "Epoch: 14 \tLoss: 0.573480\n",
            "Epoch: 15 \tLoss: 0.548447\n",
            "Epoch: 16 \tLoss: 0.611081\n",
            "Epoch: 17 \tLoss: 0.429027\n",
            "Epoch: 18 \tLoss: 0.505640\n",
            "Epoch: 19 \tLoss: 0.515288\n",
            "Epoch: 20 \tLoss: 0.530888\n",
            "Epoch: 21 \tLoss: 0.487487\n",
            "Epoch: 22 \tLoss: 0.459979\n",
            "Epoch: 23 \tLoss: 0.449596\n",
            "Epoch: 24 \tLoss: 0.598162\n",
            "Epoch: 25 \tLoss: 0.581698\n",
            "Epoch: 26 \tLoss: 0.520915\n",
            "Epoch: 27 \tLoss: 0.496477\n",
            "Epoch: 28 \tLoss: 0.646033\n",
            "Epoch: 29 \tLoss: 0.458542\n",
            "Epoch: 30 \tLoss: 0.639123\n",
            "Epoch: 31 \tLoss: 0.461035\n",
            "Epoch: 32 \tLoss: 0.522859\n",
            "Epoch: 33 \tLoss: 0.576981\n",
            "Epoch: 34 \tLoss: 0.545987\n",
            "Epoch: 35 \tLoss: 0.651957\n",
            "Epoch: 36 \tLoss: 0.475340\n",
            "Epoch: 37 \tLoss: 0.489452\n",
            "Epoch: 38 \tLoss: 0.551510\n",
            "Epoch: 39 \tLoss: 0.652904\n",
            "Epoch: 40 \tLoss: 0.428687\n",
            "Epoch: 41 \tLoss: 0.724076\n",
            "Epoch: 42 \tLoss: 0.423877\n",
            "Epoch: 43 \tLoss: 0.520953\n",
            "Epoch: 44 \tLoss: 0.635913\n",
            "Epoch: 45 \tLoss: 0.442352\n",
            "Epoch: 46 \tLoss: 0.390816\n",
            "Epoch: 47 \tLoss: 0.480657\n",
            "Epoch: 48 \tLoss: 0.378986\n",
            "Epoch: 49 \tLoss: 0.509198\n",
            "Epoch: 50 \tLoss: 0.487927\n",
            "Time taken: 93.36 minutes!\n"
          ]
        }
      ],
      "source": [
        "# Training Run Epochs\n",
        "start_time = time.time()\n",
        "\n",
        "for epoch in range(epochs):\n",
        "  train(epoch, model, train_loader, criterion, optimizer)\n",
        "\n",
        "print(f'Time taken: {totalTime(start_time)} minutes!')"
      ]
    },
    {
      "cell_type": "code",
      "source": [
        "# Testing\n",
        "start_time = time.time()\n",
        "\n",
        "test(model, test_loader, criterion, optimizer)\n",
        "\n",
        "print(f'Time taken: {totalTime(start_time)} minutes!')"
      ],
      "metadata": {
        "id": "lH9OiQo8rdW1",
        "colab": {
          "base_uri": "https://localhost:8080/"
        },
        "outputId": "42920218-2c3e-4cc9-a6cb-dcaad528fa02"
      },
      "execution_count": 12,
      "outputs": [
        {
          "output_type": "stream",
          "name": "stdout",
          "text": [
            "Time taken: 0.15 minutes!\n"
          ]
        }
      ]
    },
    {
      "cell_type": "markdown",
      "metadata": {
        "id": "pcipK8fkZnHU"
      },
      "source": [
        "##### Plots"
      ]
    },
    {
      "cell_type": "code",
      "source": [
        "# -----------------------------\n",
        "# Training loss at each Epoch\n",
        "# -----------------------------\n",
        "plt.plot([loss.detach().numpy() for loss in train_losses], label='Training Loss')\n",
        "plt.title('Loss at Epoch')\n",
        "plt.legend()"
      ],
      "metadata": {
        "colab": {
          "base_uri": "https://localhost:8080/",
          "height": 469
        },
        "id": "zXHuYCTx3gIG",
        "outputId": "73abe14d-2bbc-4da3-830f-9a63d481a238"
      },
      "execution_count": 13,
      "outputs": [
        {
          "output_type": "execute_result",
          "data": {
            "text/plain": [
              "<matplotlib.legend.Legend at 0x7c2cf45004a0>"
            ]
          },
          "metadata": {},
          "execution_count": 13
        },
        {
          "output_type": "display_data",
          "data": {
            "text/plain": [
              "<Figure size 640x480 with 1 Axes>"
            ],
            "image/png": "[encoded data removed]"
          },
          "metadata": {}
        }
      ]
    },
    {
      "cell_type": "code",
      "execution_count": 14,
      "metadata": {
        "id": "Dd_OJgN5Z2Er",
        "colab": {
          "base_uri": "https://localhost:8080/",
          "height": 469
        },
        "outputId": "5353009b-bf78-4be4-f903-327a2d3446f8"
      },
      "outputs": [
        {
          "output_type": "execute_result",
          "data": {
            "text/plain": [
              "<matplotlib.legend.Legend at 0x7c2bf534cad0>"
            ]
          },
          "metadata": {},
          "execution_count": 14
        },
        {
          "output_type": "display_data",
          "data": {
            "text/plain": [
              "<Figure size 640x480 with 1 Axes>"
            ],
            "image/png": "[encoded data removed]"
          },
          "metadata": {}
        }
      ],
      "source": [
        "# --------------------------------------------\n",
        "# Training accuracy at the end of each Epoch\n",
        "# --------------------------------------------\n",
        "plt.plot([t/500 for t in train_correct], label='Training Accuracy')\n",
        "plt.title('Accuracy at Epoch')\n",
        "plt.legend()"
      ]
    },
    {
      "cell_type": "markdown",
      "metadata": {
        "id": "uYqPzMTkZ4eY"
      },
      "source": [
        "##### Test Accuracy"
      ]
    },
    {
      "cell_type": "code",
      "execution_count": 15,
      "metadata": {
        "id": "cYXDkUYyrVxV"
      },
      "outputs": [],
      "source": [
        "classes = ('plane', 'car', 'bird', 'cat', 'deer', 'dog', 'frog', 'horse', 'ship', 'truck')"
      ]
    },
    {
      "cell_type": "code",
      "execution_count": 16,
      "metadata": {
        "id": "Y3k6_CqoZ59b"
      },
      "outputs": [],
      "source": [
        "with torch.no_grad():\n",
        "  correct = 0\n",
        "  for X_test, y_test in test_loader:\n",
        "    y_val = model(X_test)\n",
        "    predicted = torch.max(y_val, 1)[1]\n",
        "    correct += (predicted == y_test).sum()"
      ]
    },
    {
      "cell_type": "code",
      "execution_count": 17,
      "metadata": {
        "id": "SVth_EAMZ9Kz",
        "colab": {
          "base_uri": "https://localhost:8080/"
        },
        "outputId": "3da8134b-f2ff-4232-9fa8-9f1ae5f5d6c1"
      },
      "outputs": [
        {
          "output_type": "stream",
          "name": "stdout",
          "text": [
            "Test Accuracy: 83.05%\n"
          ]
        }
      ],
      "source": [
        "# Test for correct\n",
        "correct.item() / len(test_data) * 100\n",
        "print(f'Test Accuracy: {round(correct.item()/len(test_data) * 100, 2)}%')"
      ]
    },
    {
      "cell_type": "markdown",
      "metadata": {
        "id": "bDlgG-bvqkBg"
      },
      "source": [
        "##### Test on New Images"
      ]
    },
    {
      "cell_type": "code",
      "execution_count": 18,
      "metadata": {
        "id": "_DngjzyQqmhZ",
        "colab": {
          "base_uri": "https://localhost:8080/",
          "height": 447
        },
        "outputId": "df76c12e-6bba-4527-d4fd-1a003cd088c0"
      },
      "outputs": [
        {
          "output_type": "execute_result",
          "data": {
            "text/plain": [
              "<matplotlib.image.AxesImage at 0x7c2bf4a75cd0>"
            ]
          },
          "metadata": {},
          "execution_count": 18
        },
        {
          "output_type": "display_data",
          "data": {
            "text/plain": [
              "<Figure size 640x480 with 1 Axes>"
            ],
            "image/png": "[encoded data removed]"
          },
          "metadata": {}
        }
      ],
      "source": [
        "# Taking an Test Image 1\n",
        "test_image1 = test_data[4143][0]\n",
        "# Unnormalize the image\n",
        "test_image1 = test_image1 * 0.5 + 0.5\n",
        "plt.imshow(test_image1.permute(1, 2, 0))"
      ]
    },
    {
      "cell_type": "code",
      "execution_count": 19,
      "metadata": {
        "id": "h6CjyFAOqpbP",
        "colab": {
          "base_uri": "https://localhost:8080/",
          "height": 35
        },
        "outputId": "4476df2a-2cd0-4b97-b0a0-1335b31389cd"
      },
      "outputs": [
        {
          "output_type": "execute_result",
          "data": {
            "text/plain": [
              "'dog'"
            ],
            "application/vnd.google.colaboratory.intrinsic+json": {
              "type": "string"
            }
          },
          "metadata": {},
          "execution_count": 19
        }
      ],
      "source": [
        "# New Prediction: Passing the image through our model\n",
        "model.eval()\n",
        "\n",
        "with torch.no_grad():\n",
        "  output = model(test_image1.view(1, 3, 32, 32))\n",
        "\n",
        "# Check the new prediction\n",
        "classes[output.argmax()]"
      ]
    },
    {
      "cell_type": "code",
      "execution_count": 20,
      "metadata": {
        "id": "PV5SyzI8rm4W",
        "colab": {
          "base_uri": "https://localhost:8080/",
          "height": 447
        },
        "outputId": "f6fe1cfb-af49-4082-c5fa-62071957f078"
      },
      "outputs": [
        {
          "output_type": "execute_result",
          "data": {
            "text/plain": [
              "<matplotlib.image.AxesImage at 0x7c2bf49ebb60>"
            ]
          },
          "metadata": {},
          "execution_count": 20
        },
        {
          "output_type": "display_data",
          "data": {
            "text/plain": [
              "<Figure size 640x480 with 1 Axes>"
            ],
            "image/png": "[encoded data removed]"
          },
          "metadata": {}
        }
      ],
      "source": [
        "# Taking an Test Image 2\n",
        "test_image1 = test_data[3331][0]\n",
        "# Unnormalize the image\n",
        "test_image1 = test_image1 * 0.5 + 0.5\n",
        "plt.imshow(test_image1.permute(1, 2, 0))"
      ]
    },
    {
      "cell_type": "code",
      "execution_count": 21,
      "metadata": {
        "id": "WSRPbhvsrsLm",
        "colab": {
          "base_uri": "https://localhost:8080/",
          "height": 35
        },
        "outputId": "d2374d10-a28c-4898-d602-56b60bc2f7a3"
      },
      "outputs": [
        {
          "output_type": "execute_result",
          "data": {
            "text/plain": [
              "'ship'"
            ],
            "application/vnd.google.colaboratory.intrinsic+json": {
              "type": "string"
            }
          },
          "metadata": {},
          "execution_count": 21
        }
      ],
      "source": [
        "# New Prediction: Passing the image through our model\n",
        "model.eval()\n",
        "\n",
        "with torch.no_grad():\n",
        "  output = model(test_image1.view(1, 3, 32, 32))\n",
        "\n",
        "# Check the new prediction\n",
        "classes[output.argmax()]"
      ]
    }
  ],
  "metadata": {
    "accelerator": "TPU",
    "colab": {
      "gpuType": "V5E1",
      "provenance": [],
      "authorship_tag": "ABX9TyNtmELSOtVUn39ctdyHN7AO",
      "include_colab_link": true
    },
    "kernelspec": {
      "display_name": "Python 3",
      "name": "python3"
    },
    "language_info": {
      "name": "python"
    }
  },
  "nbformat": 4,
  "nbformat_minor": 0
}