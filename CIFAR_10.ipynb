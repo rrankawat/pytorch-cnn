{
  "cells": [
    {
      "cell_type": "markdown",
      "metadata": {
        "id": "view-in-github",
        "colab_type": "text"
      },
      "source": [
        "<a href=\"https://colab.research.google.com/github/rrankawat/pytorch-cnn/blob/main/CIFAR_10.ipynb\" target=\"_parent\"><img src=\"https://colab.research.google.com/assets/colab-badge.svg\" alt=\"Open In Colab\"/></a>"
      ]
    },
    {
      "cell_type": "markdown",
      "metadata": {
        "id": "r4Puug5jToW9"
      },
      "source": [
        "# Key characteristics of CIFAR-10:\n",
        "* Size: 60,000 images.\n",
        "* Dimensions: Each image is 32 pixels by 32 pixels.\n",
        "* Color: Images are in color, with RGB channels.\n",
        "* Classes: 10 distinct categories of objects.\n",
        "* Data Split: A standard configuration uses 50,000 images for training and 10,000 images for testing.\n",
        "### Examples of the 10 classes:\n",
        "* Airplane, Automobile, Bird, Cat, Deer, Dog, Frog, Horse, Ship, and Truck."
      ]
    },
    {
      "cell_type": "code",
      "execution_count": 23,
      "metadata": {
        "id": "2bJcv6nPS9hr"
      },
      "outputs": [],
      "source": [
        "import torch\n",
        "import torch.nn as nn\n",
        "import torch.nn.functional as F\n",
        "import torch.optim as optim\n",
        "from torch.utils.data import DataLoader\n",
        "from torchvision import datasets, transforms\n",
        "import time\n",
        "import numpy as np\n",
        "import matplotlib.pyplot as plt\n",
        "%matplotlib inline"
      ]
    },
    {
      "cell_type": "markdown",
      "metadata": {
        "id": "Vd43FkxgVEp1"
      },
      "source": [
        "##### Transform, Data Loading & Converting To Batches"
      ]
    },
    {
      "cell_type": "code",
      "execution_count": 24,
      "metadata": {
        "id": "8C0AlDHBn0Un"
      },
      "outputs": [],
      "source": [
        "train_transform = transforms.Compose([\n",
        "    transforms.RandomHorizontalFlip(),\n",
        "    transforms.RandomCrop(32, padding=4),\n",
        "    transforms.ColorJitter(brightness=0.2, contrast=0.2, saturation=0.2),\n",
        "    transforms.ToTensor(),\n",
        "    transforms.Normalize((0.5, 0.5, 0.5), (0.5, 0.5, 0.5))\n",
        "])\n",
        "\n",
        "test_transform = transforms.Compose([\n",
        "    transforms.ToTensor(),\n",
        "    transforms.Normalize((0.5, 0.5, 0.5), (0.5, 0.5, 0.5))\n",
        "])"
      ]
    },
    {
      "cell_type": "code",
      "execution_count": 25,
      "metadata": {
        "id": "-i4UdiHXUtDl"
      },
      "outputs": [],
      "source": [
        "train_data = datasets.CIFAR10(root='./data', train=True, download=True, transform=train_transform)\n",
        "test_data = datasets.CIFAR10(root='./data', train=False, download=True, transform=test_transform)\n",
        "\n",
        "train_loader = DataLoader(train_data, batch_size=128, shuffle=True)\n",
        "test_loader = DataLoader(test_data, batch_size=128, shuffle=False)"
      ]
    },
    {
      "cell_type": "markdown",
      "metadata": {
        "id": "SPfiPZkwVUPX"
      },
      "source": [
        "##### CNN Model"
      ]
    },
    {
      "cell_type": "code",
      "execution_count": 26,
      "metadata": {
        "id": "MN9z5V-gVVzX"
      },
      "outputs": [],
      "source": [
        "class CIFARConvNet(nn.Module):\n",
        "    def __init__(self):\n",
        "        super().__init__()\n",
        "        self.conv1 = nn.Conv2d(3, 16, 3, padding=1)   # -> 16x32x32\n",
        "        self.bn1 = nn.BatchNorm2d(16)\n",
        "        self.conv2 = nn.Conv2d(16, 32, 3, padding=1)  # -> 64x32x32\n",
        "        self.bn2 = nn.BatchNorm2d(32)\n",
        "        self.conv3 = nn.Conv2d(32, 64, 3, padding=1) # -> 64x32x32\n",
        "        self.bn3 = nn.BatchNorm2d(64)\n",
        "        self.conv4 = nn.Conv2d(64, 128, 3, padding=1) # -> 128x32x32\n",
        "        self.bn4 = nn.BatchNorm2d(128)\n",
        "\n",
        "        self.fc1 = nn.Linear(128*2*2, 256)\n",
        "        self.fc2 = nn.Linear(256, 10)\n",
        "\n",
        "        self.dropout = nn.Dropout(0.25)\n",
        "\n",
        "    def forward(self, x):\n",
        "        # Block 1\n",
        "        x = F.relu(self.bn1(self.conv1(x)))\n",
        "        x = F.max_pool2d(x, 2, 2)  # 32 -> 16\n",
        "\n",
        "        # Block 2\n",
        "        x = F.relu(self.bn2(self.conv2(x)))\n",
        "        x = F.max_pool2d(x, 2, 2)  # 16 -> 8\n",
        "\n",
        "        # Block 3\n",
        "        x = F.relu(self.bn3(self.conv3(x)))\n",
        "        x = F.max_pool2d(x, 2, 2)  # 8 -> 4\n",
        "\n",
        "        # Block 4\n",
        "        x = F.relu(self.bn4(self.conv4(x)))\n",
        "        x = F.max_pool2d(x, 2, 2)  # 4 -> 2\n",
        "\n",
        "        # Flatten\n",
        "        x = x.view(-1, 128*2*2)\n",
        "\n",
        "        # Fully connected\n",
        "        x = F.relu(self.fc1(x))\n",
        "        x = self.dropout(x)\n",
        "        x = self.fc2(x)\n",
        "        return x"
      ]
    },
    {
      "cell_type": "markdown",
      "metadata": {
        "id": "N6sMikZeYbT5"
      },
      "source": [
        "##### Random Seeds and Model Instance"
      ]
    },
    {
      "cell_type": "code",
      "execution_count": 27,
      "metadata": {
        "id": "JTm92IjHYaM2"
      },
      "outputs": [],
      "source": [
        "torch.manual_seed(41)\n",
        "model = CIFARConvNet()"
      ]
    },
    {
      "cell_type": "markdown",
      "metadata": {
        "id": "o7jgV6b3Y67n"
      },
      "source": [
        "##### Loss & Optimizer"
      ]
    },
    {
      "cell_type": "code",
      "execution_count": 28,
      "metadata": {
        "id": "SKgdf-iCZJ0h"
      },
      "outputs": [],
      "source": [
        "criterion = nn.CrossEntropyLoss()\n",
        "optimizer = torch.optim.Adam(model.parameters(), lr=0.001)"
      ]
    },
    {
      "cell_type": "markdown",
      "metadata": {
        "id": "FzMkBqX0ZNQT"
      },
      "source": [
        "##### Time Function"
      ]
    },
    {
      "cell_type": "code",
      "execution_count": 29,
      "metadata": {
        "id": "XsaO_BZoZOnx"
      },
      "outputs": [],
      "source": [
        "def totalTime(start_time):\n",
        "  current_time = time.time()\n",
        "  total_time = (current_time - start_time) / 60\n",
        "  return round(total_time, 2)"
      ]
    },
    {
      "cell_type": "markdown",
      "metadata": {
        "id": "0urPgOg6ZSVY"
      },
      "source": [
        "##### Model Training & Testing"
      ]
    },
    {
      "cell_type": "code",
      "execution_count": 30,
      "metadata": {
        "id": "b8jFWHfZZRys"
      },
      "outputs": [],
      "source": [
        "# Variables to track things\n",
        "epochs = 30\n",
        "train_losses = []\n",
        "train_correct = []\n",
        "test_losses = []\n",
        "test_correct = []"
      ]
    },
    {
      "cell_type": "code",
      "execution_count": 31,
      "metadata": {
        "id": "vNHBi_jQZYJb"
      },
      "outputs": [],
      "source": [
        "# -------------------\n",
        "# Training function\n",
        "# -------------------\n",
        "def train(epoch, model, train_loader, criterion, optimizer):\n",
        "  model.train()\n",
        "\n",
        "  trn_corr = 0\n",
        "\n",
        "  for b, (X_train, y_train) in enumerate(train_loader):\n",
        "    b += 1\n",
        "    y_pred = model(X_train)\n",
        "    loss = criterion(y_pred, y_train)\n",
        "    predicted = torch.max(y_pred.data, 1)[1]\n",
        "    trn_corr += (predicted == y_train).sum()\n",
        "\n",
        "    # Back-propagation & Update parameters\n",
        "    optimizer.zero_grad()\n",
        "    loss.backward()\n",
        "    optimizer.step()\n",
        "\n",
        "  # Print out results\n",
        "  print(f\"Epoch: {epoch + 1} \\tLoss: {loss.item():.6f}\")\n",
        "\n",
        "  train_losses.append(loss)\n",
        "  train_correct.append(trn_corr)"
      ]
    },
    {
      "cell_type": "code",
      "execution_count": 32,
      "metadata": {
        "id": "umwTsX0pZblu"
      },
      "outputs": [],
      "source": [
        "# -------------------\n",
        "# Test function\n",
        "# -------------------\n",
        "def test(model, test_loader, criterion, optimizer):\n",
        "  model.eval()\n",
        "  tst_corr = 0\n",
        "\n",
        "  with torch.no_grad():\n",
        "    for X_test, y_test in test_loader:\n",
        "      y_val = model(X_test)\n",
        "      predicted = torch.max(y_val.data, 1)[1]\n",
        "      tst_corr += (predicted == y_test).sum()\n",
        "\n",
        "  loss = criterion(y_val, y_test)\n",
        "  test_losses.append(loss)\n",
        "  test_correct.append(tst_corr)"
      ]
    },
    {
      "cell_type": "code",
      "execution_count": 33,
      "metadata": {
        "colab": {
          "base_uri": "https://localhost:8080/"
        },
        "id": "JqBAeqMPZdkl",
        "outputId": "e47202af-ee11-4ed3-ee99-f1cc4b9fac93"
      },
      "outputs": [
        {
          "output_type": "stream",
          "name": "stdout",
          "text": [
            "Epoch: 1 \tLoss: 1.195599\n",
            "Epoch: 2 \tLoss: 0.975666\n",
            "Epoch: 3 \tLoss: 0.948501\n",
            "Epoch: 4 \tLoss: 0.918531\n",
            "Epoch: 5 \tLoss: 0.655955\n",
            "Epoch: 6 \tLoss: 0.893644\n",
            "Epoch: 7 \tLoss: 0.681926\n",
            "Epoch: 8 \tLoss: 0.745354\n",
            "Epoch: 9 \tLoss: 0.773261\n",
            "Epoch: 10 \tLoss: 0.652870\n",
            "Epoch: 11 \tLoss: 0.711567\n",
            "Epoch: 12 \tLoss: 0.706313\n",
            "Epoch: 13 \tLoss: 0.763364\n",
            "Epoch: 14 \tLoss: 0.648116\n",
            "Epoch: 15 \tLoss: 0.494015\n",
            "Epoch: 16 \tLoss: 0.578338\n",
            "Epoch: 17 \tLoss: 0.471046\n",
            "Epoch: 18 \tLoss: 0.541835\n",
            "Epoch: 19 \tLoss: 0.574449\n",
            "Epoch: 20 \tLoss: 0.500323\n",
            "Epoch: 21 \tLoss: 0.450180\n",
            "Epoch: 22 \tLoss: 0.511091\n",
            "Epoch: 23 \tLoss: 0.450359\n",
            "Epoch: 24 \tLoss: 0.640619\n",
            "Epoch: 25 \tLoss: 0.593535\n",
            "Epoch: 26 \tLoss: 0.460444\n",
            "Epoch: 27 \tLoss: 0.547366\n",
            "Epoch: 28 \tLoss: 0.582985\n",
            "Epoch: 29 \tLoss: 0.388861\n",
            "Epoch: 30 \tLoss: 0.648751\n",
            "Time taken: 35.43 minutes!\n"
          ]
        }
      ],
      "source": [
        "# Training Run Epochs\n",
        "start_time = time.time()\n",
        "\n",
        "for epoch in range(epochs):\n",
        "  train(epoch, model, train_loader, criterion, optimizer)\n",
        "\n",
        "print(f'Time taken: {totalTime(start_time)} minutes!')"
      ]
    },
    {
      "cell_type": "code",
      "source": [
        "# Testing\n",
        "start_time = time.time()\n",
        "\n",
        "test(model, test_loader, criterion, optimizer)\n",
        "\n",
        "print(f'Time taken: {totalTime(start_time)} minutes!')"
      ],
      "metadata": {
        "id": "lH9OiQo8rdW1",
        "colab": {
          "base_uri": "https://localhost:8080/"
        },
        "outputId": "0a058986-e952-4d62-960a-c75d4070aeb3"
      },
      "execution_count": 34,
      "outputs": [
        {
          "output_type": "stream",
          "name": "stdout",
          "text": [
            "Time taken: 0.1 minutes!\n"
          ]
        }
      ]
    },
    {
      "cell_type": "markdown",
      "metadata": {
        "id": "pcipK8fkZnHU"
      },
      "source": [
        "##### Plots"
      ]
    },
    {
      "cell_type": "code",
      "source": [
        "# -----------------------------\n",
        "# Training loss at each Epoch\n",
        "# -----------------------------\n",
        "plt.plot([loss.detach().numpy() for loss in train_losses], label='Training Loss')\n",
        "plt.title('Loss at Epoch')\n",
        "plt.legend()"
      ],
      "metadata": {
        "colab": {
          "base_uri": "https://localhost:8080/",
          "height": 469
        },
        "id": "zXHuYCTx3gIG",
        "outputId": "1c8458d5-7c96-467d-ada9-dc1d8969371e"
      },
      "execution_count": 35,
      "outputs": [
        {
          "output_type": "execute_result",
          "data": {
            "text/plain": [
              "<matplotlib.legend.Legend at 0x7bec8d8b8380>"
            ]
          },
          "metadata": {},
          "execution_count": 35
        },
        {
          "output_type": "display_data",
          "data": {
            "text/plain": [
              "<Figure size 640x480 with 1 Axes>"
            ],
            "image/png": "[encoded data removed]"
          },
          "metadata": {}
        }
      ]
    },
    {
      "cell_type": "code",
      "execution_count": 36,
      "metadata": {
        "id": "Dd_OJgN5Z2Er",
        "colab": {
          "base_uri": "https://localhost:8080/",
          "height": 469
        },
        "outputId": "823b9336-267d-417c-c8e8-e0d9a2af0812"
      },
      "outputs": [
        {
          "output_type": "execute_result",
          "data": {
            "text/plain": [
              "<matplotlib.legend.Legend at 0x7bec7ca06000>"
            ]
          },
          "metadata": {},
          "execution_count": 36
        },
        {
          "output_type": "display_data",
          "data": {
            "text/plain": [
              "<Figure size 640x480 with 1 Axes>"
            ],
            "image/png": "[encoded data removed]"
          },
          "metadata": {}
        }
      ],
      "source": [
        "# --------------------------------------------\n",
        "# Training accuracy at the end of each Epoch\n",
        "# --------------------------------------------\n",
        "plt.plot([t/500 for t in train_correct], label='Training Accuracy')\n",
        "plt.title('Accuracy at Epoch')\n",
        "plt.legend()"
      ]
    },
    {
      "cell_type": "markdown",
      "metadata": {
        "id": "uYqPzMTkZ4eY"
      },
      "source": [
        "##### Test Accuracy"
      ]
    },
    {
      "cell_type": "code",
      "execution_count": 37,
      "metadata": {
        "id": "cYXDkUYyrVxV"
      },
      "outputs": [],
      "source": [
        "classes = ('plane', 'car', 'bird', 'cat', 'deer', 'dog', 'frog', 'horse', 'ship', 'truck')"
      ]
    },
    {
      "cell_type": "code",
      "execution_count": 38,
      "metadata": {
        "id": "Y3k6_CqoZ59b"
      },
      "outputs": [],
      "source": [
        "with torch.no_grad():\n",
        "  correct = 0\n",
        "  for X_test, y_test in test_loader:\n",
        "    y_val = model(X_test)\n",
        "    predicted = torch.max(y_val, 1)[1]\n",
        "    correct += (predicted == y_test).sum()"
      ]
    },
    {
      "cell_type": "code",
      "execution_count": 39,
      "metadata": {
        "id": "SVth_EAMZ9Kz",
        "colab": {
          "base_uri": "https://localhost:8080/"
        },
        "outputId": "962dcefb-cd35-4dbe-f560-8f6a62e9211f"
      },
      "outputs": [
        {
          "output_type": "stream",
          "name": "stdout",
          "text": [
            "Test Accuracy: 81.05%\n"
          ]
        }
      ],
      "source": [
        "# Test for correct\n",
        "correct.item() / len(test_data) * 100\n",
        "print(f'Test Accuracy: {round(correct.item()/len(test_data) * 100, 2)}%')"
      ]
    },
    {
      "cell_type": "markdown",
      "metadata": {
        "id": "bDlgG-bvqkBg"
      },
      "source": [
        "##### Test on New Images"
      ]
    },
    {
      "cell_type": "code",
      "execution_count": 40,
      "metadata": {
        "id": "_DngjzyQqmhZ",
        "colab": {
          "base_uri": "https://localhost:8080/",
          "height": 447
        },
        "outputId": "46ef277d-9d68-40f9-dfcd-69837e6fc883"
      },
      "outputs": [
        {
          "output_type": "execute_result",
          "data": {
            "text/plain": [
              "<matplotlib.image.AxesImage at 0x7bec7ca82660>"
            ]
          },
          "metadata": {},
          "execution_count": 40
        },
        {
          "output_type": "display_data",
          "data": {
            "text/plain": [
              "<Figure size 640x480 with 1 Axes>"
            ],
            "image/png": "[encoded data removed]"
          },
          "metadata": {}
        }
      ],
      "source": [
        "# Taking an Test Image 1\n",
        "test_image1 = test_data[4143][0]\n",
        "# Unnormalize the image\n",
        "test_image1 = test_image1 * 0.5 + 0.5\n",
        "plt.imshow(test_image1.permute(1, 2, 0))"
      ]
    },
    {
      "cell_type": "code",
      "execution_count": 41,
      "metadata": {
        "id": "h6CjyFAOqpbP",
        "colab": {
          "base_uri": "https://localhost:8080/",
          "height": 35
        },
        "outputId": "412717df-282a-4133-fefb-7c85367ac3ef"
      },
      "outputs": [
        {
          "output_type": "execute_result",
          "data": {
            "text/plain": [
              "'dog'"
            ],
            "application/vnd.google.colaboratory.intrinsic+json": {
              "type": "string"
            }
          },
          "metadata": {},
          "execution_count": 41
        }
      ],
      "source": [
        "# New Prediction: Passing the image through our model\n",
        "model.eval()\n",
        "\n",
        "with torch.no_grad():\n",
        "  output = model(test_image1.view(1, 3, 32, 32))\n",
        "\n",
        "# Check the new prediction\n",
        "classes[output.argmax()]"
      ]
    },
    {
      "cell_type": "code",
      "execution_count": 42,
      "metadata": {
        "id": "PV5SyzI8rm4W",
        "colab": {
          "base_uri": "https://localhost:8080/",
          "height": 447
        },
        "outputId": "c2c35192-526c-4007-ddd9-1e90853c5171"
      },
      "outputs": [
        {
          "output_type": "execute_result",
          "data": {
            "text/plain": [
              "<matplotlib.image.AxesImage at 0x7bec7c92f2f0>"
            ]
          },
          "metadata": {},
          "execution_count": 42
        },
        {
          "output_type": "display_data",
          "data": {
            "text/plain": [
              "<Figure size 640x480 with 1 Axes>"
            ],
            "image/png": "[encoded data removed]"
          },
          "metadata": {}
        }
      ],
      "source": [
        "# Taking an Test Image 2\n",
        "test_image1 = test_data[3331][0]\n",
        "# Unnormalize the image\n",
        "test_image1 = test_image1 * 0.5 + 0.5\n",
        "plt.imshow(test_image1.permute(1, 2, 0))"
      ]
    },
    {
      "cell_type": "code",
      "execution_count": 43,
      "metadata": {
        "id": "WSRPbhvsrsLm",
        "colab": {
          "base_uri": "https://localhost:8080/",
          "height": 35
        },
        "outputId": "13188bb3-b6c3-4c1d-c344-c4c606b22d51"
      },
      "outputs": [
        {
          "output_type": "execute_result",
          "data": {
            "text/plain": [
              "'ship'"
            ],
            "application/vnd.google.colaboratory.intrinsic+json": {
              "type": "string"
            }
          },
          "metadata": {},
          "execution_count": 43
        }
      ],
      "source": [
        "# New Prediction: Passing the image through our model\n",
        "model.eval()\n",
        "\n",
        "with torch.no_grad():\n",
        "  output = model(test_image1.view(1, 3, 32, 32))\n",
        "\n",
        "# Check the new prediction\n",
        "classes[output.argmax()]"
      ]
    }
  ],
  "metadata": {
    "accelerator": "GPU",
    "colab": {
      "gpuType": "T4",
      "provenance": [],
      "authorship_tag": "ABX9TyNrr/DNW5dTHNhQ5gPLDoiD",
      "include_colab_link": true
    },
    "kernelspec": {
      "display_name": "Python 3",
      "name": "python3"
    },
    "language_info": {
      "name": "python"
    }
  },
  "nbformat": 4,
  "nbformat_minor": 0
}