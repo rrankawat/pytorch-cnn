{
  "nbformat": 4,
  "nbformat_minor": 0,
  "metadata": {
    "colab": {
      "provenance": [],
      "gpuType": "T4",
      "authorship_tag": "ABX9TyMjvrUOJE249NIPwJrUH4Fx",
      "include_colab_link": true
    },
    "kernelspec": {
      "name": "python3",
      "display_name": "Python 3"
    },
    "language_info": {
      "name": "python"
    },
    "accelerator": "GPU"
  },
  "cells": [
    {
      "cell_type": "markdown",
      "metadata": {
        "id": "view-in-github",
        "colab_type": "text"
      },
      "source": [
        "<a href=\"https://colab.research.google.com/github/rrankawat/pytorch-cnn/blob/main/CIFAR_10_Knowledge_Distillation.ipynb\" target=\"_parent\"><img src=\"https://colab.research.google.com/assets/colab-badge.svg\" alt=\"Open In Colab\"/></a>"
      ]
    },
    {
      "cell_type": "markdown",
      "source": [
        "## Knowledge distillation\n",
        "\n",
        "Knowledge distillation is a machine learning technique where a large, complex \"teacher\" model transfers its knowledge to a smaller, simpler \"student\" model. This process compresses the model, allowing a more efficient student model to perform nearly as well as the large teacher model, making it suitable for deployment on devices with limited resources, such as mobile phones.\n",
        "\n",
        "* KD is a model compression / performance enhancement technique.\n",
        "\n",
        "* Idea: Train a smaller or same-size “student” model to mimic a larger or pretrained “teacher” model."
      ],
      "metadata": {
        "id": "w_FX-i0CAWI-"
      }
    },
    {
      "cell_type": "code",
      "execution_count": 20,
      "metadata": {
        "id": "Vu5hc_5D_5Tb"
      },
      "outputs": [],
      "source": [
        "import torch\n",
        "import torch.nn as nn\n",
        "import torch.nn.functional as F\n",
        "from torch.utils.data import DataLoader\n",
        "from torchvision import datasets, transforms\n",
        "import time"
      ]
    },
    {
      "cell_type": "code",
      "source": [
        "from google.colab import drive\n",
        "drive.mount('/content/drive')"
      ],
      "metadata": {
        "colab": {
          "base_uri": "https://localhost:8080/"
        },
        "id": "Xai73sZ_A1sA",
        "outputId": "748fe305-77df-42cf-fb64-9fe19aedd8b1"
      },
      "execution_count": 2,
      "outputs": [
        {
          "output_type": "stream",
          "name": "stdout",
          "text": [
            "Mounted at /content/drive\n"
          ]
        }
      ]
    },
    {
      "cell_type": "code",
      "source": [
        "def totalTime(start_time):\n",
        "  current_time = time.time()\n",
        "  total_time = (current_time - start_time) / 60\n",
        "  return round(total_time, 2)"
      ],
      "metadata": {
        "id": "DRL3isTo5KTk"
      },
      "execution_count": 3,
      "outputs": []
    },
    {
      "cell_type": "markdown",
      "source": [
        "###### Teacher Model (Pretrained)"
      ],
      "metadata": {
        "id": "GEw8esXYAx8C"
      }
    },
    {
      "cell_type": "code",
      "source": [
        "class CIFARConvNet(nn.Module):\n",
        "    def __init__(self):\n",
        "        super().__init__()\n",
        "        self.conv1 = nn.Conv2d(3, 16, 3, padding=1)   # -> 16x32x32\n",
        "        self.bn1 = nn.BatchNorm2d(16)\n",
        "        self.conv2 = nn.Conv2d(16, 32, 3, padding=1)  # -> 64x32x32\n",
        "        self.bn2 = nn.BatchNorm2d(32)\n",
        "        self.conv3 = nn.Conv2d(32, 64, 3, padding=1) # -> 64x32x32\n",
        "        self.bn3 = nn.BatchNorm2d(64)\n",
        "        self.conv4 = nn.Conv2d(64, 128, 3, padding=1) # -> 128x32x32\n",
        "        self.bn4 = nn.BatchNorm2d(128)\n",
        "\n",
        "        self.fc1 = nn.Linear(128*2*2, 256)\n",
        "        self.fc2 = nn.Linear(256, 10)\n",
        "\n",
        "        self.dropout = nn.Dropout(0.25)\n",
        "\n",
        "    def forward(self, x):\n",
        "        # Block 1\n",
        "        x = F.relu(self.bn1(self.conv1(x)))\n",
        "        x = F.max_pool2d(x, 2, 2)  # 32 -> 16\n",
        "\n",
        "        # Block 2\n",
        "        x = F.relu(self.bn2(self.conv2(x)))\n",
        "        x = F.max_pool2d(x, 2, 2)  # 16 -> 8\n",
        "\n",
        "        # Block 3\n",
        "        x = F.relu(self.bn3(self.conv3(x)))\n",
        "        x = F.max_pool2d(x, 2, 2)  # 8 -> 4\n",
        "\n",
        "        # Block 4\n",
        "        x = F.relu(self.bn4(self.conv4(x)))\n",
        "        x = F.max_pool2d(x, 2, 2)  # 4 -> 2\n",
        "\n",
        "        # Flatten\n",
        "        x = x.reshape(-1, 128*2*2)\n",
        "\n",
        "        # Fully connected\n",
        "        x = F.relu(self.fc1(x))\n",
        "        x = self.dropout(x)\n",
        "        x = self.fc2(x)\n",
        "        return x"
      ],
      "metadata": {
        "id": "3pyqupZpAzqq"
      },
      "execution_count": 4,
      "outputs": []
    },
    {
      "cell_type": "code",
      "source": [
        "teacher = CIFARConvNet()\n",
        "teacher.load_state_dict(torch.load(\"/content/drive/My Drive/Colab Notebooks/model_cifar10.pth\", map_location=\"cpu\"))\n",
        "teacher.eval()  # Freeze teacher\n",
        "\n",
        "for param in teacher.parameters():\n",
        "    param.requires_grad = False\n",
        "print(\"✅ Teacher model loaded.\")"
      ],
      "metadata": {
        "colab": {
          "base_uri": "https://localhost:8080/"
        },
        "id": "3mCNFZVRBNXv",
        "outputId": "4192f1d1-4556-49b3-d8a2-5f18081db681"
      },
      "execution_count": 5,
      "outputs": [
        {
          "output_type": "stream",
          "name": "stdout",
          "text": [
            "✅ Teacher model loaded.\n"
          ]
        }
      ]
    },
    {
      "cell_type": "markdown",
      "source": [
        "###### Student Model (Smaller)"
      ],
      "metadata": {
        "id": "lWsgCaW4BUMM"
      }
    },
    {
      "cell_type": "code",
      "source": [
        "class StudentNet(nn.Module):\n",
        "    def __init__(self):\n",
        "        super().__init__()\n",
        "        self.conv1 = nn.Conv2d(3, 16, 3, padding=1)\n",
        "        self.bn1 = nn.BatchNorm2d(16)\n",
        "        self.conv2 = nn.Conv2d(16, 32, 3, padding=1)\n",
        "        self.bn2 = nn.BatchNorm2d(32)\n",
        "        self.fc1 = nn.Linear(32*8*8, 128)  # smaller FC\n",
        "        self.fc2 = nn.Linear(128, 10)\n",
        "\n",
        "    def forward(self, x):\n",
        "        x = F.relu(self.bn1(self.conv1(x)))\n",
        "        x = F.max_pool2d(x, 2, 2)  # 32 -> 16\n",
        "\n",
        "        x = F.relu(self.bn2(self.conv2(x)))\n",
        "        x = F.max_pool2d(x, 2, 2)  # 16 -> 8\n",
        "\n",
        "        x = x.reshape(-1, 32*8*8)\n",
        "\n",
        "        x = F.relu(self.fc1(x))\n",
        "        x = self.fc2(x)\n",
        "        return x"
      ],
      "metadata": {
        "id": "qC-lDKmdBViL"
      },
      "execution_count": 6,
      "outputs": []
    },
    {
      "cell_type": "code",
      "source": [
        "student = StudentNet()"
      ],
      "metadata": {
        "id": "FFjXUo0WBZgy"
      },
      "execution_count": 7,
      "outputs": []
    },
    {
      "cell_type": "markdown",
      "source": [
        "###### CIFAR10 Data Loading"
      ],
      "metadata": {
        "id": "6A8GrjlGBrRa"
      }
    },
    {
      "cell_type": "code",
      "source": [
        "train_transform = transforms.Compose([\n",
        "    transforms.RandomHorizontalFlip(),\n",
        "    transforms.RandomCrop(32, padding=4),\n",
        "    transforms.ColorJitter(brightness=0.2, contrast=0.2, saturation=0.2),\n",
        "    transforms.ToTensor(),\n",
        "    transforms.Normalize((0.5, 0.5, 0.5), (0.5, 0.5, 0.5))\n",
        "])\n",
        "\n",
        "test_transform = transforms.Compose([\n",
        "    transforms.ToTensor(),\n",
        "    transforms.Normalize((0.5, 0.5, 0.5), (0.5, 0.5, 0.5))\n",
        "])"
      ],
      "metadata": {
        "id": "rblHPltOBs4M"
      },
      "execution_count": 8,
      "outputs": []
    },
    {
      "cell_type": "code",
      "source": [
        "train_data = datasets.CIFAR10(root='./data', train=True, download=True, transform=train_transform)\n",
        "test_data = datasets.CIFAR10(root='./data', train=False, download=True, transform=test_transform)\n",
        "\n",
        "train_loader = DataLoader(train_data, batch_size=128, shuffle=True)\n",
        "test_loader = DataLoader(test_data, batch_size=128, shuffle=False)"
      ],
      "metadata": {
        "colab": {
          "base_uri": "https://localhost:8080/"
        },
        "id": "jW_uzWynB5pI",
        "outputId": "63152dc8-fe84-4891-be8d-732902122d2e"
      },
      "execution_count": 9,
      "outputs": [
        {
          "output_type": "stream",
          "name": "stderr",
          "text": [
            "100%|██████████| 170M/170M [00:03<00:00, 44.5MB/s]\n"
          ]
        }
      ]
    },
    {
      "cell_type": "markdown",
      "source": [
        "###### Distillation Loss Function"
      ],
      "metadata": {
        "id": "Nhnjg3IjCGqp"
      }
    },
    {
      "cell_type": "code",
      "source": [
        "def distillation_loss(student_logits, teacher_logits, labels, T=4, alpha=0.7):\n",
        "    # Soft targets (KL Divergence)\n",
        "    p_teacher = F.log_softmax(student_logits / T, dim=1)\n",
        "    q_teacher = F.softmax(teacher_logits / T, dim=1)\n",
        "    loss_kd = F.kl_div(p_teacher, q_teacher, reduction='batchmean') * (T*T)\n",
        "\n",
        "    # Hard label loss\n",
        "    loss_ce = F.cross_entropy(student_logits, labels)\n",
        "\n",
        "    # Combined loss\n",
        "    return alpha*loss_ce + (1-alpha)*loss_kd"
      ],
      "metadata": {
        "id": "2d10WiozCJD-"
      },
      "execution_count": 14,
      "outputs": []
    },
    {
      "cell_type": "markdown",
      "source": [
        "###### Optimizer"
      ],
      "metadata": {
        "id": "MHHQrAR2CQ3n"
      }
    },
    {
      "cell_type": "code",
      "source": [
        "optimizer = torch.optim.Adam(student.parameters(), lr=0.001)"
      ],
      "metadata": {
        "id": "9gta4TbwCR9N"
      },
      "execution_count": 11,
      "outputs": []
    },
    {
      "cell_type": "markdown",
      "source": [
        "###### Training Loop with KD"
      ],
      "metadata": {
        "id": "ml795o4xCVVD"
      }
    },
    {
      "cell_type": "code",
      "source": [
        "epochs = 20\n",
        "start_time = time.time()\n",
        "\n",
        "for epoch in range(epochs):\n",
        "    student.train()\n",
        "    train_losses = 0.0\n",
        "    for images, labels in train_loader:\n",
        "        student_logits = student(images)\n",
        "        teacher_logits = teacher(images)\n",
        "        loss = distillation_loss(student_logits, teacher_logits, labels)\n",
        "\n",
        "        # Back-propagation & Update parameters\n",
        "        optimizer.zero_grad()\n",
        "        loss.backward()\n",
        "        optimizer.step()\n",
        "\n",
        "        train_losses += loss.item()\n",
        "\n",
        "    print(f\"Epoch {epoch+1}/{epochs} | Loss: {train_losses/len(train_loader):.4f}\")\n",
        "\n",
        "print(f'Time taken: {totalTime(start_time)} minutes!')"
      ],
      "metadata": {
        "colab": {
          "base_uri": "https://localhost:8080/"
        },
        "id": "NMJZysouCWu0",
        "outputId": "aa9fa6e5-daeb-41ed-aa82-4414bab5f933"
      },
      "execution_count": 15,
      "outputs": [
        {
          "output_type": "stream",
          "name": "stdout",
          "text": [
            "Epoch 1/20 | Loss: 1.8922\n",
            "Epoch 2/20 | Loss: 1.6399\n",
            "Epoch 3/20 | Loss: 1.5200\n",
            "Epoch 4/20 | Loss: 1.4339\n",
            "Epoch 5/20 | Loss: 1.3555\n",
            "Epoch 6/20 | Loss: 1.2890\n",
            "Epoch 7/20 | Loss: 1.2432\n",
            "Epoch 8/20 | Loss: 1.1998\n",
            "Epoch 9/20 | Loss: 1.1732\n",
            "Epoch 10/20 | Loss: 1.1391\n",
            "Epoch 11/20 | Loss: 1.1180\n",
            "Epoch 12/20 | Loss: 1.0833\n",
            "Epoch 13/20 | Loss: 1.0685\n",
            "Epoch 14/20 | Loss: 1.0534\n",
            "Epoch 15/20 | Loss: 1.0370\n",
            "Epoch 16/20 | Loss: 1.0218\n",
            "Epoch 17/20 | Loss: 1.0070\n",
            "Epoch 18/20 | Loss: 0.9924\n",
            "Epoch 19/20 | Loss: 0.9795\n",
            "Epoch 20/20 | Loss: 0.9675\n",
            "Time taken: 26.29 minutes!\n"
          ]
        }
      ]
    },
    {
      "cell_type": "markdown",
      "source": [
        "###### Evaluate Student"
      ],
      "metadata": {
        "id": "Xb-YsDWUCyKc"
      }
    },
    {
      "cell_type": "code",
      "source": [
        "def evaluate(model, loader):\n",
        "    model.eval()\n",
        "    correct, total = 0, 0\n",
        "    with torch.no_grad():\n",
        "        for images, labels in loader:\n",
        "            outputs = model(images)\n",
        "            _, preds = torch.max(outputs, 1)\n",
        "            correct += (preds == labels).sum().item()\n",
        "            total += labels.size(0)\n",
        "    return 100 * correct / total"
      ],
      "metadata": {
        "id": "e344-0u_CzeM"
      },
      "execution_count": 17,
      "outputs": []
    },
    {
      "cell_type": "code",
      "source": [
        "acc_student = evaluate(student, test_loader)\n",
        "print(f\"🎓 Student Accuracy: {acc_student:.2f}%\")"
      ],
      "metadata": {
        "colab": {
          "base_uri": "https://localhost:8080/"
        },
        "id": "Bp64uIQ3C3S9",
        "outputId": "97f5afe4-bcab-44dc-9bac-c69cca2eb4af"
      },
      "execution_count": 18,
      "outputs": [
        {
          "output_type": "stream",
          "name": "stdout",
          "text": [
            "🎓 Student Accuracy: 75.05%\n"
          ]
        }
      ]
    },
    {
      "cell_type": "code",
      "source": [
        "torch.save(student.state_dict(), \"/content/drive/My Drive/Colab Notebooks/model_cifar10_kd.pth\")\n",
        "print(\"✅ Model saved as model_cifar10_kd.pth\")"
      ],
      "metadata": {
        "colab": {
          "base_uri": "https://localhost:8080/"
        },
        "id": "2y43y6sRLs_q",
        "outputId": "8efcc0d6-bcc9-49bd-b10f-dba2d97cc4b8"
      },
      "execution_count": 19,
      "outputs": [
        {
          "output_type": "stream",
          "name": "stdout",
          "text": [
            "✅ Model saved as model_cifar10_kd.pth\n"
          ]
        }
      ]
    }
  ]
}