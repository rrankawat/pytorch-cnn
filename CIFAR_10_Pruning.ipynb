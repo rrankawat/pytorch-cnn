{
  "cells": [
    {
      "cell_type": "markdown",
      "metadata": {
        "id": "view-in-github",
        "colab_type": "text"
      },
      "source": [
        "<a href=\"https://colab.research.google.com/github/rrankawat/pytorch-cnn/blob/main/CIFAR_10_Pruning.ipynb\" target=\"_parent\"><img src=\"https://colab.research.google.com/assets/colab-badge.svg\" alt=\"Open In Colab\"/></a>"
      ]
    },
    {
      "cell_type": "markdown",
      "source": [
        "### Pruning\n",
        "\n",
        "Pruning is a deep learning technique used to reduce a neural network's size by removing unnecessary components like weights, neurons, or entire layers, while aiming to maintain accuracy. This process makes models more efficient, requiring less computational power and memory, which is crucial for deployment on resource-constrained devices like smartphones and for real-time applications. Pruning can improve inference speed, lower energy consumption, and can also act as a form of regularization to help prevent overfitting.\n",
        "\n",
        "##### How it works\n",
        "\n",
        "* Identify and remove: The process involves identifying and removing redundant or less significant parameters. This is often done by assessing the importance of each weight, neuron, or filter.\n",
        "* Types of pruning:\n",
        "\n",
        "  *   Unstructured pruning: Removes individual weights, leading to sparse connections.\n",
        "  *   Structured pruning: Removes entire filters or neurons, which can be more efficient for hardware acceleration."
      ],
      "metadata": {
        "id": "0zLU76kcO4BL"
      }
    },
    {
      "cell_type": "code",
      "source": [
        "import torch\n",
        "import torch.nn as nn\n",
        "import torch.nn.functional as F\n",
        "from torch.utils.data import DataLoader\n",
        "from torchvision import datasets, transforms\n",
        "import torch.nn.utils.prune as prune\n",
        "\n",
        "import numpy as np\n",
        "import matplotlib.pyplot as plt\n",
        "%matplotlib inline\n",
        "\n",
        "import time\n",
        "import os"
      ],
      "metadata": {
        "id": "yxsn47gmBQyB"
      },
      "execution_count": 88,
      "outputs": []
    },
    {
      "cell_type": "code",
      "source": [
        "from google.colab import drive\n",
        "drive.mount('/content/drive')"
      ],
      "metadata": {
        "colab": {
          "base_uri": "https://localhost:8080/"
        },
        "id": "OZFF_AEM6rNw",
        "outputId": "7305ea49-b272-4b57-bf4e-4521afa80516"
      },
      "execution_count": 89,
      "outputs": [
        {
          "output_type": "stream",
          "name": "stdout",
          "text": [
            "Drive already mounted at /content/drive; to attempt to forcibly remount, call drive.mount(\"/content/drive\", force_remount=True).\n"
          ]
        }
      ]
    },
    {
      "cell_type": "code",
      "source": [
        "def totalTime(start_time):\n",
        "  current_time = time.time()\n",
        "  total_time = (current_time - start_time) / 60\n",
        "  return round(total_time, 2)"
      ],
      "metadata": {
        "id": "QXteSloLNh-W"
      },
      "execution_count": 91,
      "outputs": []
    },
    {
      "cell_type": "code",
      "source": [
        "class CIFARConvNet(nn.Module):\n",
        "    def __init__(self):\n",
        "        super().__init__()\n",
        "        self.conv1 = nn.Conv2d(3, 16, 3, padding=1)   # -> 16x32x32\n",
        "        self.bn1 = nn.BatchNorm2d(16)\n",
        "        self.conv2 = nn.Conv2d(16, 32, 3, padding=1)  # -> 64x32x32\n",
        "        self.bn2 = nn.BatchNorm2d(32)\n",
        "        self.conv3 = nn.Conv2d(32, 64, 3, padding=1) # -> 64x32x32\n",
        "        self.bn3 = nn.BatchNorm2d(64)\n",
        "        self.conv4 = nn.Conv2d(64, 128, 3, padding=1) # -> 128x32x32\n",
        "        self.bn4 = nn.BatchNorm2d(128)\n",
        "\n",
        "        self.fc1 = nn.Linear(128*2*2, 256)\n",
        "        self.fc2 = nn.Linear(256, 10)\n",
        "\n",
        "        self.dropout = nn.Dropout(0.25)\n",
        "\n",
        "    def forward(self, x):\n",
        "        # Block 1\n",
        "        x = F.relu(self.bn1(self.conv1(x)))\n",
        "        x = F.max_pool2d(x, 2, 2)  # 32 -> 16\n",
        "\n",
        "        # Block 2\n",
        "        x = F.relu(self.bn2(self.conv2(x)))\n",
        "        x = F.max_pool2d(x, 2, 2)  # 16 -> 8\n",
        "\n",
        "        # Block 3\n",
        "        x = F.relu(self.bn3(self.conv3(x)))\n",
        "        x = F.max_pool2d(x, 2, 2)  # 8 -> 4\n",
        "\n",
        "        # Block 4\n",
        "        x = F.relu(self.bn4(self.conv4(x)))\n",
        "        x = F.max_pool2d(x, 2, 2)  # 4 -> 2\n",
        "\n",
        "        # Flatten\n",
        "        x = x.view(-1, 128*2*2)\n",
        "\n",
        "        # Fully connected\n",
        "        x = F.relu(self.fc1(x))\n",
        "        x = self.dropout(x)\n",
        "        x = self.fc2(x)\n",
        "        return x"
      ],
      "metadata": {
        "id": "XetQb0DWjhp-"
      },
      "execution_count": 92,
      "outputs": []
    },
    {
      "cell_type": "markdown",
      "source": [
        "###### Load Model"
      ],
      "metadata": {
        "id": "7B_7g5h3fX20"
      }
    },
    {
      "cell_type": "code",
      "source": [
        "# Load weights\n",
        "model = CIFARConvNet()\n",
        "model.load_state_dict(torch.load(\"/content/drive/My Drive/Colab Notebooks/model_cifar10.pth\"))\n",
        "model.eval()"
      ],
      "metadata": {
        "colab": {
          "base_uri": "https://localhost:8080/"
        },
        "id": "tN5SVTSbBZ6U",
        "outputId": "fb751917-0dc7-4dfb-ecab-ec4656f144bc"
      },
      "execution_count": 93,
      "outputs": [
        {
          "output_type": "execute_result",
          "data": {
            "text/plain": [
              "CIFARConvNet(\n",
              "  (conv1): Conv2d(3, 16, kernel_size=(3, 3), stride=(1, 1), padding=(1, 1))\n",
              "  (bn1): BatchNorm2d(16, eps=1e-05, momentum=0.1, affine=True, track_running_stats=True)\n",
              "  (conv2): Conv2d(16, 32, kernel_size=(3, 3), stride=(1, 1), padding=(1, 1))\n",
              "  (bn2): BatchNorm2d(32, eps=1e-05, momentum=0.1, affine=True, track_running_stats=True)\n",
              "  (conv3): Conv2d(32, 64, kernel_size=(3, 3), stride=(1, 1), padding=(1, 1))\n",
              "  (bn3): BatchNorm2d(64, eps=1e-05, momentum=0.1, affine=True, track_running_stats=True)\n",
              "  (conv4): Conv2d(64, 128, kernel_size=(3, 3), stride=(1, 1), padding=(1, 1))\n",
              "  (bn4): BatchNorm2d(128, eps=1e-05, momentum=0.1, affine=True, track_running_stats=True)\n",
              "  (fc1): Linear(in_features=512, out_features=256, bias=True)\n",
              "  (fc2): Linear(in_features=256, out_features=10, bias=True)\n",
              "  (dropout): Dropout(p=0.25, inplace=False)\n",
              ")"
            ]
          },
          "metadata": {},
          "execution_count": 93
        }
      ]
    },
    {
      "cell_type": "markdown",
      "source": [
        "###### Prepare Test Data"
      ],
      "metadata": {
        "id": "b16-Tda1fc1V"
      }
    },
    {
      "cell_type": "code",
      "source": [
        "test_transform = transforms.Compose([\n",
        "    transforms.ToTensor(),\n",
        "    transforms.Normalize((0.5, 0.5, 0.5), (0.5, 0.5, 0.5))\n",
        "])"
      ],
      "metadata": {
        "id": "OPwHA-DKlh3i"
      },
      "execution_count": 94,
      "outputs": []
    },
    {
      "cell_type": "code",
      "source": [
        "test_set = datasets.CIFAR10(root='./data', train=False, download=True, transform=test_transform)\n",
        "\n",
        "test_loader = DataLoader(test_set, batch_size=128, shuffle=False)"
      ],
      "metadata": {
        "id": "ONKCAWiSlLgk"
      },
      "execution_count": 95,
      "outputs": []
    },
    {
      "cell_type": "markdown",
      "source": [
        "###### Accuracy Function"
      ],
      "metadata": {
        "id": "vbydoj5afkAE"
      }
    },
    {
      "cell_type": "code",
      "source": [
        "def test_accuracy(model, test_loader):\n",
        "    correct = 0\n",
        "    total = 0\n",
        "    with torch.no_grad():\n",
        "        for X_test, y_test in test_loader:\n",
        "            y_val = model(X_test)\n",
        "            predicted = torch.max(y_val.data, 1)[1]\n",
        "            total += y_test.size(0)\n",
        "            correct += (predicted == y_test).sum().item()\n",
        "    return correct / total * 100"
      ],
      "metadata": {
        "id": "qxLKGwmMl-F0"
      },
      "execution_count": 96,
      "outputs": []
    },
    {
      "cell_type": "markdown",
      "source": [
        "###### Prune the Model"
      ],
      "metadata": {
        "id": "XgeajFIOfoVH"
      }
    },
    {
      "cell_type": "code",
      "source": [
        "# Example: prune 30% of weights in conv and fc layers\n",
        "parameters_to_prune = (\n",
        "    (model.conv1, 'weight'),\n",
        "    (model.conv2, 'weight'),\n",
        "    (model.fc1, 'weight'),\n",
        ")\n",
        "\n",
        "print(parameters_to_prune)"
      ],
      "metadata": {
        "colab": {
          "base_uri": "https://localhost:8080/"
        },
        "id": "vpNKnF0WmtRz",
        "outputId": "9b14f743-1c9c-4c76-a4b1-52dede10402b"
      },
      "execution_count": 97,
      "outputs": [
        {
          "output_type": "stream",
          "name": "stdout",
          "text": [
            "((Conv2d(3, 16, kernel_size=(3, 3), stride=(1, 1), padding=(1, 1)), 'weight'), (Conv2d(16, 32, kernel_size=(3, 3), stride=(1, 1), padding=(1, 1)), 'weight'), (Linear(in_features=512, out_features=256, bias=True), 'weight'))\n"
          ]
        }
      ]
    },
    {
      "cell_type": "code",
      "source": [
        "for layer, param_name in parameters_to_prune:\n",
        "    print(layer, param_name)\n",
        "    prune.l1_unstructured(layer, name=param_name, amount=0.3)"
      ],
      "metadata": {
        "colab": {
          "base_uri": "https://localhost:8080/"
        },
        "id": "Wx7HpfPNKQ_Y",
        "outputId": "4567c938-0427-44bb-e8fa-f2c231ebf608"
      },
      "execution_count": 98,
      "outputs": [
        {
          "output_type": "stream",
          "name": "stdout",
          "text": [
            "Conv2d(3, 16, kernel_size=(3, 3), stride=(1, 1), padding=(1, 1)) weight\n",
            "Conv2d(16, 32, kernel_size=(3, 3), stride=(1, 1), padding=(1, 1)) weight\n",
            "Linear(in_features=512, out_features=256, bias=True) weight\n"
          ]
        }
      ]
    },
    {
      "cell_type": "code",
      "source": [
        "for name, module in model.named_modules():\n",
        "  if hasattr(module, 'weight_mask'):\n",
        "    sparsity = float(torch.sum(module.weight_mask == 0)) / float(module.weight_mask.nelement()) * 100\n",
        "    print(f\"Sparsity in {name}.weight: {sparsity:.2f}%\")"
      ],
      "metadata": {
        "colab": {
          "base_uri": "https://localhost:8080/"
        },
        "id": "dN4zIrIYnWT5",
        "outputId": "6ac0bfb2-95bc-4e1e-e692-911bfb35f06d"
      },
      "execution_count": 99,
      "outputs": [
        {
          "output_type": "stream",
          "name": "stdout",
          "text": [
            "Sparsity in conv1.weight: 30.09%\n",
            "Sparsity in conv2.weight: 29.99%\n",
            "Sparsity in fc1.weight: 30.00%\n"
          ]
        }
      ]
    },
    {
      "cell_type": "markdown",
      "source": [
        "###### Test Accuracy After Pruning"
      ],
      "metadata": {
        "id": "my4b_3Kdf22W"
      }
    },
    {
      "cell_type": "code",
      "source": [
        "acc_before = test_accuracy(model, test_loader)\n",
        "print(f\"Accuracy after pruning: {acc_before:.2f}%\")"
      ],
      "metadata": {
        "colab": {
          "base_uri": "https://localhost:8080/"
        },
        "id": "y-lapnexoLsa",
        "outputId": "26a8c737-8186-40aa-cf36-efcbe09fb183"
      },
      "execution_count": 100,
      "outputs": [
        {
          "output_type": "stream",
          "name": "stdout",
          "text": [
            "Accuracy after pruning: 70.08%\n"
          ]
        }
      ]
    },
    {
      "cell_type": "code",
      "source": [
        "optimizer = torch.optim.Adam(model.parameters(), lr=0.001)\n",
        "criterion = torch.nn.CrossEntropyLoss()"
      ],
      "metadata": {
        "id": "PIx7LwVMNxre"
      },
      "execution_count": 101,
      "outputs": []
    },
    {
      "cell_type": "markdown",
      "source": [
        "###### Fine-Tune"
      ],
      "metadata": {
        "id": "Mhm1TgyAf7I1"
      }
    },
    {
      "cell_type": "code",
      "source": [
        "start_time = time.time()\n",
        "\n",
        "# retrain for few epochs\n",
        "for epoch in range(2):  # small fine-tune\n",
        "    model.train()\n",
        "    for images, labels in test_loader:  # you can also use trainloader here\n",
        "        optimizer.zero_grad()\n",
        "        outputs = model(images)\n",
        "        loss = criterion(outputs, labels)\n",
        "        loss.backward()\n",
        "        optimizer.step()\n",
        "\n",
        "print(f'Time taken: {totalTime(start_time)} minutes!')"
      ],
      "metadata": {
        "colab": {
          "base_uri": "https://localhost:8080/"
        },
        "id": "cRU9PyzeM9uP",
        "outputId": "378064a0-47fe-4cf3-9204-ea5d77c94458"
      },
      "execution_count": 102,
      "outputs": [
        {
          "output_type": "stream",
          "name": "stdout",
          "text": [
            "Time taken: 0.55 minutes!\n"
          ]
        }
      ]
    },
    {
      "cell_type": "code",
      "source": [
        "acc_after_ft = test_accuracy(model, test_loader)\n",
        "print(f\"Accuracy after fine-tuning: {acc_after_ft:.2f}%\")"
      ],
      "metadata": {
        "colab": {
          "base_uri": "https://localhost:8080/"
        },
        "id": "5opOEb5UNITA",
        "outputId": "c9f3cec6-60f6-4ccc-ef21-db01bf224555"
      },
      "execution_count": 103,
      "outputs": [
        {
          "output_type": "stream",
          "name": "stdout",
          "text": [
            "Accuracy after fine-tuning: 89.52%\n"
          ]
        }
      ]
    },
    {
      "cell_type": "markdown",
      "source": [
        "###### Make Pruning Permanent"
      ],
      "metadata": {
        "id": "RNrbAX1egHxr"
      }
    },
    {
      "cell_type": "code",
      "source": [
        "for layer, param_name in parameters_to_prune:\n",
        "    prune.remove(layer, param_name)"
      ],
      "metadata": {
        "id": "00WGhTiCOFsA"
      },
      "execution_count": 104,
      "outputs": []
    },
    {
      "cell_type": "markdown",
      "source": [
        "###### Save the Pruned Model"
      ],
      "metadata": {
        "id": "2BC9tq_1gLvs"
      }
    },
    {
      "cell_type": "code",
      "source": [
        "torch.save(model.state_dict(), \"/content/drive/My Drive/Colab Notebooks/model_cifar10_pruned.pth\")\n",
        "print(\"✅ Model saved as model_cifar10_pruned.pth\")"
      ],
      "metadata": {
        "colab": {
          "base_uri": "https://localhost:8080/"
        },
        "id": "dVCJ4hfBOIZ5",
        "outputId": "4826cbd9-287a-458e-e873-79769d24a590"
      },
      "execution_count": 105,
      "outputs": [
        {
          "output_type": "stream",
          "name": "stdout",
          "text": [
            "✅ Model saved as model_cifar10_pruned.pth\n"
          ]
        }
      ]
    },
    {
      "cell_type": "code",
      "source": [
        "os.listdir(\"/content/drive/My Drive/Colab Notebooks/\")"
      ],
      "metadata": {
        "colab": {
          "base_uri": "https://localhost:8080/"
        },
        "id": "AGOcI2m4ObMd",
        "outputId": "53b7da3c-7494-44c0-c6f1-7cda22d2b510"
      },
      "execution_count": 106,
      "outputs": [
        {
          "output_type": "execute_result",
          "data": {
            "text/plain": [
              "['wildfire-detection.ipynb',\n",
              " '1. Getting Started.ipynb',\n",
              " '2. Grayscaling Images.ipynb',\n",
              " '3. Color Spaces.ipynb',\n",
              " '4. Drawing on Images.ipynb',\n",
              " 'Defect Analysis.ipynb',\n",
              " '01 Tensors.ipynb',\n",
              " '02 Tensor Operations.ipynb',\n",
              " '03 Tensor Math Operations.ipynb',\n",
              " '05 Convolutional Neural Network.ipynb',\n",
              " 'FashionMnist (1).ipynb',\n",
              " '04 Neural Network.ipynb',\n",
              " 'CIFAR-100.ipynb',\n",
              " 'Mnist.ipynb',\n",
              " 'model_fashion_mnist.pth',\n",
              " '__pycache__',\n",
              " 'model_fashion_mnist.py',\n",
              " 'FashionMnist.ipynb',\n",
              " 'model_cifar10.py',\n",
              " 'model_cifar10.pth',\n",
              " 'CIFAR-10.ipynb',\n",
              " 'CIFAR-10 Pruning.ipynb',\n",
              " 'model_cifar10_pruned.pth',\n",
              " 'CIFAR-10 Structured Pruning.ipynb']"
            ]
          },
          "metadata": {},
          "execution_count": 106
        }
      ]
    }
  ],
  "metadata": {
    "colab": {
      "provenance": [],
      "mount_file_id": "1ldEs-0StQn451o39n_2SUvOJOoZiB-yX",
      "authorship_tag": "ABX9TyM0iW+4Z2p8CQRzOb/MZeW4",
      "include_colab_link": true
    },
    "kernelspec": {
      "display_name": "Python 3",
      "name": "python3"
    },
    "language_info": {
      "name": "python"
    }
  },
  "nbformat": 4,
  "nbformat_minor": 0
}