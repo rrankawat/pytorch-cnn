{
  "nbformat": 4,
  "nbformat_minor": 0,
  "metadata": {
    "colab": {
      "provenance": [],
      "authorship_tag": "ABX9TyMb+LvFEp0hVYYawN0XEPEY",
      "include_colab_link": true
    },
    "kernelspec": {
      "name": "python3",
      "display_name": "Python 3"
    },
    "language_info": {
      "name": "python"
    }
  },
  "cells": [
    {
      "cell_type": "markdown",
      "metadata": {
        "id": "view-in-github",
        "colab_type": "text"
      },
      "source": [
        "<a href=\"https://colab.research.google.com/github/rrankawat/pytorch-cnn/blob/main/CIFAR_10_Structured_Pruning.ipynb\" target=\"_parent\"><img src=\"https://colab.research.google.com/assets/colab-badge.svg\" alt=\"Open In Colab\"/></a>"
      ]
    },
    {
      "cell_type": "code",
      "execution_count": 1,
      "metadata": {
        "id": "11DCCstIgl38"
      },
      "outputs": [],
      "source": [
        "import torch\n",
        "import torch.nn as nn\n",
        "import torch.nn.functional as F\n",
        "from torch.utils.data import DataLoader\n",
        "from torchvision import datasets, transforms\n",
        "import torch.nn.utils.prune as prune\n",
        "\n",
        "import numpy as np\n",
        "import matplotlib.pyplot as plt\n",
        "%matplotlib inline\n",
        "\n",
        "import time\n",
        "import os"
      ]
    },
    {
      "cell_type": "code",
      "source": [
        "from google.colab import drive\n",
        "drive.mount('/content/drive')"
      ],
      "metadata": {
        "colab": {
          "base_uri": "https://localhost:8080/"
        },
        "id": "ZA7vhnFShABO",
        "outputId": "81c0ad4f-1060-40a7-e207-f80a93d82f30"
      },
      "execution_count": 3,
      "outputs": [
        {
          "output_type": "stream",
          "name": "stdout",
          "text": [
            "Mounted at /content/drive\n"
          ]
        }
      ]
    },
    {
      "cell_type": "code",
      "source": [
        "def totalTime(start_time):\n",
        "  current_time = time.time()\n",
        "  total_time = (current_time - start_time) / 60\n",
        "  return round(total_time, 2)"
      ],
      "metadata": {
        "id": "yGY8vjSHhJCr"
      },
      "execution_count": 4,
      "outputs": []
    },
    {
      "cell_type": "code",
      "source": [
        "class CIFARConvNet(nn.Module):\n",
        "    def __init__(self):\n",
        "        super().__init__()\n",
        "        self.conv1 = nn.Conv2d(3, 16, 3, padding=1)   # -> 16x32x32\n",
        "        self.bn1 = nn.BatchNorm2d(16)\n",
        "        self.conv2 = nn.Conv2d(16, 32, 3, padding=1)  # -> 64x32x32\n",
        "        self.bn2 = nn.BatchNorm2d(32)\n",
        "        self.conv3 = nn.Conv2d(32, 64, 3, padding=1) # -> 64x32x32\n",
        "        self.bn3 = nn.BatchNorm2d(64)\n",
        "        self.conv4 = nn.Conv2d(64, 128, 3, padding=1) # -> 128x32x32\n",
        "        self.bn4 = nn.BatchNorm2d(128)\n",
        "\n",
        "        self.fc1 = nn.Linear(128*2*2, 256)\n",
        "        self.fc2 = nn.Linear(256, 10)\n",
        "\n",
        "        self.dropout = nn.Dropout(0.25)\n",
        "\n",
        "    def forward(self, x):\n",
        "        # Block 1\n",
        "        x = F.relu(self.bn1(self.conv1(x)))\n",
        "        x = F.max_pool2d(x, 2, 2)  # 32 -> 16\n",
        "\n",
        "        # Block 2\n",
        "        x = F.relu(self.bn2(self.conv2(x)))\n",
        "        x = F.max_pool2d(x, 2, 2)  # 16 -> 8\n",
        "\n",
        "        # Block 3\n",
        "        x = F.relu(self.bn3(self.conv3(x)))\n",
        "        x = F.max_pool2d(x, 2, 2)  # 8 -> 4\n",
        "\n",
        "        # Block 4\n",
        "        x = F.relu(self.bn4(self.conv4(x)))\n",
        "        x = F.max_pool2d(x, 2, 2)  # 4 -> 2\n",
        "\n",
        "        # Flatten\n",
        "        x = x.view(-1, 128*2*2)\n",
        "\n",
        "        # Fully connected\n",
        "        x = F.relu(self.fc1(x))\n",
        "        x = self.dropout(x)\n",
        "        x = self.fc2(x)\n",
        "        return x"
      ],
      "metadata": {
        "id": "c2I3kNkkg72p"
      },
      "execution_count": 5,
      "outputs": []
    },
    {
      "cell_type": "markdown",
      "source": [
        "###### Load Model"
      ],
      "metadata": {
        "id": "62EaY6weiByz"
      }
    },
    {
      "cell_type": "code",
      "source": [
        "model = CIFARConvNet()\n",
        "model.load_state_dict(torch.load(\"/content/drive/My Drive/Colab Notebooks/model_cifar10.pth\"))\n",
        "model.eval()"
      ],
      "metadata": {
        "colab": {
          "base_uri": "https://localhost:8080/"
        },
        "id": "NBFteL9GiDQI",
        "outputId": "7dddb99f-0cc1-450d-9511-f56e6f03c0da"
      },
      "execution_count": 6,
      "outputs": [
        {
          "output_type": "execute_result",
          "data": {
            "text/plain": [
              "CIFARConvNet(\n",
              "  (conv1): Conv2d(3, 16, kernel_size=(3, 3), stride=(1, 1), padding=(1, 1))\n",
              "  (bn1): BatchNorm2d(16, eps=1e-05, momentum=0.1, affine=True, track_running_stats=True)\n",
              "  (conv2): Conv2d(16, 32, kernel_size=(3, 3), stride=(1, 1), padding=(1, 1))\n",
              "  (bn2): BatchNorm2d(32, eps=1e-05, momentum=0.1, affine=True, track_running_stats=True)\n",
              "  (conv3): Conv2d(32, 64, kernel_size=(3, 3), stride=(1, 1), padding=(1, 1))\n",
              "  (bn3): BatchNorm2d(64, eps=1e-05, momentum=0.1, affine=True, track_running_stats=True)\n",
              "  (conv4): Conv2d(64, 128, kernel_size=(3, 3), stride=(1, 1), padding=(1, 1))\n",
              "  (bn4): BatchNorm2d(128, eps=1e-05, momentum=0.1, affine=True, track_running_stats=True)\n",
              "  (fc1): Linear(in_features=512, out_features=256, bias=True)\n",
              "  (fc2): Linear(in_features=256, out_features=10, bias=True)\n",
              "  (dropout): Dropout(p=0.25, inplace=False)\n",
              ")"
            ]
          },
          "metadata": {},
          "execution_count": 6
        }
      ]
    },
    {
      "cell_type": "markdown",
      "source": [
        "###### Prepare CIFAR-10 Test Data"
      ],
      "metadata": {
        "id": "5e_iCwNaiLRo"
      }
    },
    {
      "cell_type": "code",
      "source": [
        "test_transform = transforms.Compose([\n",
        "    transforms.ToTensor(),\n",
        "    transforms.Normalize((0.5, 0.5, 0.5), (0.5, 0.5, 0.5))\n",
        "])\n",
        "\n",
        "test_set = datasets.CIFAR10(root='./data', train=False, download=True, transform=test_transform)\n",
        "test_loader = DataLoader(test_set, batch_size=100, shuffle=False)"
      ],
      "metadata": {
        "colab": {
          "base_uri": "https://localhost:8080/"
        },
        "id": "5MxspBwciOge",
        "outputId": "72e1c896-25bd-4ee8-c26e-4e38ee875854"
      },
      "execution_count": 7,
      "outputs": [
        {
          "output_type": "stream",
          "name": "stderr",
          "text": [
            "100%|██████████| 170M/170M [00:04<00:00, 38.2MB/s]\n"
          ]
        }
      ]
    },
    {
      "cell_type": "markdown",
      "source": [
        "###### Accuracy Function"
      ],
      "metadata": {
        "id": "191Enj9wicHB"
      }
    },
    {
      "cell_type": "code",
      "source": [
        "def test_accuracy(model, test_loader):\n",
        "    correct = 0\n",
        "    total = 0\n",
        "    with torch.no_grad():\n",
        "        for X_test, y_test in test_loader:\n",
        "            y_val = model(X_test)\n",
        "            predicted = torch.max(y_val.data, 1)[1]\n",
        "            total += y_test.size(0)\n",
        "            correct += (predicted == y_test).sum().item()\n",
        "    return correct / total * 100"
      ],
      "metadata": {
        "id": "TaRp7R6yidYZ"
      },
      "execution_count": 13,
      "outputs": []
    },
    {
      "cell_type": "markdown",
      "source": [
        "######  Structured pruning"
      ],
      "metadata": {
        "id": "bhe1H2ZojQFT"
      }
    },
    {
      "cell_type": "code",
      "source": [
        "# We will prune entire filters (channels) in conv layers\n",
        "parameters_to_prune = (\n",
        "    (model.conv1, 'weight'),\n",
        "    (model.conv2, 'weight'),\n",
        "    (model.conv3, 'weight'),\n",
        "    (model.conv4, 'weight')\n",
        ")"
      ],
      "metadata": {
        "id": "7KSZ4vfojRgg"
      },
      "execution_count": 8,
      "outputs": []
    },
    {
      "cell_type": "code",
      "source": [
        "for layer, param_name in parameters_to_prune:\n",
        "    # structured pruning along the output channels (dim=0)\n",
        "    prune.ln_structured(layer, name=param_name, amount=0.3, n=2, dim=0)"
      ],
      "metadata": {
        "id": "HtUiJ-VRjYWT"
      },
      "execution_count": 9,
      "outputs": []
    },
    {
      "cell_type": "code",
      "source": [
        "# Check sparsity\n",
        "for name, module in model.named_modules():\n",
        "    if hasattr(module, 'weight_mask'):\n",
        "        sparsity = 100 * float(torch.sum(module.weight_mask == 0)) / float(module.weight_mask.nelement())\n",
        "        print(f\"Sparsity in {name}.weight: {sparsity:.2f}%\")"
      ],
      "metadata": {
        "colab": {
          "base_uri": "https://localhost:8080/"
        },
        "id": "X9Ugjfgtjh9v",
        "outputId": "62347121-3984-449f-96c2-38952f190270"
      },
      "execution_count": 11,
      "outputs": [
        {
          "output_type": "stream",
          "name": "stdout",
          "text": [
            "Sparsity in conv1.weight: 31.25%\n",
            "Sparsity in conv2.weight: 31.25%\n",
            "Sparsity in conv3.weight: 29.69%\n",
            "Sparsity in conv4.weight: 29.69%\n"
          ]
        }
      ]
    },
    {
      "cell_type": "markdown",
      "source": [
        "###### Test accuracy after pruning"
      ],
      "metadata": {
        "id": "3xWyijxvjsQ2"
      }
    },
    {
      "cell_type": "code",
      "source": [
        "print(f\"Accuracy after structured pruning: {test_accuracy(model, test_loader):.2f}%\")"
      ],
      "metadata": {
        "colab": {
          "base_uri": "https://localhost:8080/"
        },
        "id": "AvkKecPsjtqL",
        "outputId": "c776c47c-a39d-49b1-913c-70eb05d23f3a"
      },
      "execution_count": 14,
      "outputs": [
        {
          "output_type": "stream",
          "name": "stdout",
          "text": [
            "Accuracy after structured pruning: 23.72%\n"
          ]
        }
      ]
    },
    {
      "cell_type": "markdown",
      "source": [
        "###### Fine Tuning"
      ],
      "metadata": {
        "id": "pL1yz-pCj5wF"
      }
    },
    {
      "cell_type": "code",
      "source": [
        "optimizer = torch.optim.Adam(model.parameters(), lr=0.001)\n",
        "criterion = torch.nn.CrossEntropyLoss()"
      ],
      "metadata": {
        "id": "G5dpucuZj4Ui"
      },
      "execution_count": 16,
      "outputs": []
    },
    {
      "cell_type": "code",
      "source": [
        "for epoch in range(2):  # fine-tune for 2 epochs\n",
        "    model.train()\n",
        "    for images, labels in test_loader:  # or use trainloader\n",
        "        optimizer.zero_grad()\n",
        "        outputs = model(images)\n",
        "        loss = criterion(outputs, labels)\n",
        "        loss.backward()\n",
        "        optimizer.step()\n",
        "\n",
        "print(f\"Accuracy after fine-tuning: {test_accuracy(model, test_loader):.2f}%\")"
      ],
      "metadata": {
        "colab": {
          "base_uri": "https://localhost:8080/"
        },
        "id": "hyT0LHwWj-1_",
        "outputId": "8f5ab959-5944-4064-ef57-2a34d4bb52d9"
      },
      "execution_count": 18,
      "outputs": [
        {
          "output_type": "stream",
          "name": "stdout",
          "text": [
            "Accuracy after fine-tuning: 79.61%\n"
          ]
        }
      ]
    },
    {
      "cell_type": "markdown",
      "source": [
        "###### Make pruning permanent"
      ],
      "metadata": {
        "id": "VpqwU3S9kI0B"
      }
    },
    {
      "cell_type": "code",
      "source": [
        "for layer, param_name in parameters_to_prune:\n",
        "    prune.remove(layer, param_name)"
      ],
      "metadata": {
        "id": "Uozcg9LXkKpX"
      },
      "execution_count": 19,
      "outputs": []
    },
    {
      "cell_type": "markdown",
      "source": [
        "###### Save structured-pruned model"
      ],
      "metadata": {
        "id": "nuGTPa4ykNnB"
      }
    },
    {
      "cell_type": "code",
      "source": [
        "torch.save(model.state_dict(), \"/content/drive/My Drive/Colab Notebooks/model_cifar10_structured_pruned.pth\")"
      ],
      "metadata": {
        "id": "1B1EdtbPkPHh"
      },
      "execution_count": 22,
      "outputs": []
    },
    {
      "cell_type": "code",
      "source": [
        "os.listdir(\"/content/drive/My Drive/Colab Notebooks/\")"
      ],
      "metadata": {
        "colab": {
          "base_uri": "https://localhost:8080/"
        },
        "id": "oVPD-BTAkcFV",
        "outputId": "10da1f17-4a27-4c4d-a473-a0e227b9ea61"
      },
      "execution_count": 23,
      "outputs": [
        {
          "output_type": "execute_result",
          "data": {
            "text/plain": [
              "['CIFAR-10 Structured Pruning.ipynb',\n",
              " 'wildfire-detection.ipynb',\n",
              " '1. Getting Started.ipynb',\n",
              " '2. Grayscaling Images.ipynb',\n",
              " '3. Color Spaces.ipynb',\n",
              " '4. Drawing on Images.ipynb',\n",
              " 'Defect Analysis.ipynb',\n",
              " '01 Tensors.ipynb',\n",
              " '02 Tensor Operations.ipynb',\n",
              " '03 Tensor Math Operations.ipynb',\n",
              " '05 Convolutional Neural Network.ipynb',\n",
              " 'FashionMnist (1).ipynb',\n",
              " '04 Neural Network.ipynb',\n",
              " 'CIFAR-100.ipynb',\n",
              " 'Mnist.ipynb',\n",
              " 'model_fashion_mnist.pth',\n",
              " '__pycache__',\n",
              " 'model_fashion_mnist.py',\n",
              " 'FashionMnist.ipynb',\n",
              " 'model_cifar10.py',\n",
              " 'model_cifar10.pth',\n",
              " 'CIFAR-10.ipynb',\n",
              " 'CIFAR-10 Pruning.ipynb',\n",
              " 'model_cifar10_pruned.pth',\n",
              " 'model_cifar10_structured_pruned.pth']"
            ]
          },
          "metadata": {},
          "execution_count": 23
        }
      ]
    }
  ]
}