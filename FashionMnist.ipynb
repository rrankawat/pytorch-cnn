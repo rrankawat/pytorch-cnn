{
  "nbformat": 4,
  "nbformat_minor": 0,
  "metadata": {
    "colab": {
      "provenance": [],
      "gpuType": "T4",
      "authorship_tag": "ABX9TyNJdjP8sL+afpbPqE3pMNv/",
      "include_colab_link": true
    },
    "kernelspec": {
      "name": "python3",
      "display_name": "Python 3"
    },
    "language_info": {
      "name": "python"
    },
    "accelerator": "GPU"
  },
  "cells": [
    {
      "cell_type": "markdown",
      "metadata": {
        "id": "view-in-github",
        "colab_type": "text"
      },
      "source": [
        "<a href=\"https://colab.research.google.com/github/rrankawat/pytorch-cnn/blob/main/FashionMnist.ipynb\" target=\"_parent\"><img src=\"https://colab.research.google.com/assets/colab-badge.svg\" alt=\"Open In Colab\"/></a>"
      ]
    },
    {
      "cell_type": "markdown",
      "source": [
        "##### Import Libraries"
      ],
      "metadata": {
        "id": "vpg7Ze4qR3kS"
      }
    },
    {
      "cell_type": "code",
      "execution_count": 1,
      "metadata": {
        "id": "J1QxauLw2LuA"
      },
      "outputs": [],
      "source": [
        "import torch\n",
        "import torch.nn as nn\n",
        "import torch.nn.functional as F\n",
        "from torch.utils.data import DataLoader\n",
        "from torchvision import datasets, transforms\n",
        "from torchvision.utils import make_grid\n",
        "\n",
        "import numpy as np\n",
        "from sklearn.metrics import confusion_matrix\n",
        "import matplotlib.pyplot as plt\n",
        "%matplotlib inline\n",
        "\n",
        "import time"
      ]
    },
    {
      "cell_type": "markdown",
      "source": [
        "##### Data Loading & Converting To Batches"
      ],
      "metadata": {
        "id": "cfQbWEf3SH30"
      }
    },
    {
      "cell_type": "code",
      "source": [
        "train_data = datasets.FashionMNIST(root='./data', train=True, download=True, transform=transforms.ToTensor())\n",
        "test_data = datasets.FashionMNIST(root='./data', train=False, download=True, transform=transforms.ToTensor())\n",
        "\n",
        "train_loader = DataLoader(train_data, batch_size=10, shuffle=True)\n",
        "test_loader = DataLoader(test_data, batch_size=10, shuffle=False)"
      ],
      "metadata": {
        "id": "6deQSnsg54uL",
        "colab": {
          "base_uri": "https://localhost:8080/"
        },
        "outputId": "a89617fd-654a-4977-fd94-9029245b372b"
      },
      "execution_count": 2,
      "outputs": [
        {
          "output_type": "stream",
          "name": "stderr",
          "text": [
            "100%|██████████| 26.4M/26.4M [00:02<00:00, 10.1MB/s]\n",
            "100%|██████████| 29.5k/29.5k [00:00<00:00, 202kB/s]\n",
            "100%|██████████| 4.42M/4.42M [00:01<00:00, 3.73MB/s]\n",
            "100%|██████████| 5.15k/5.15k [00:00<00:00, 9.19MB/s]\n"
          ]
        }
      ]
    },
    {
      "cell_type": "code",
      "source": [
        "classes = ('T-shirt/top', 'Trouser', 'Pullover', 'Dress', 'Coat', 'Sandal', 'Shirt', 'Sneaker', 'Bag', 'Ankle Boot')"
      ],
      "metadata": {
        "id": "vvMT7o2FfvpU"
      },
      "execution_count": 3,
      "outputs": []
    },
    {
      "cell_type": "markdown",
      "source": [
        "##### CNN Model"
      ],
      "metadata": {
        "id": "xrj052fYSTNO"
      }
    },
    {
      "cell_type": "code",
      "source": [
        "class ConvolutionalNetwork(nn.Module):\n",
        "  def __init__(self):\n",
        "    super().__init__()\n",
        "    self.conv1 = nn.Conv2d(1, 6, 3, padding=1)   # 28x28 -> 28x28\n",
        "    self.conv2 = nn.Conv2d(6, 16, 3, padding=1)  # 14x14 -> 14x14\n",
        "    self.conv3 = nn.Conv2d(16, 32, 3, padding=1) # 7x7 -> 7x7\n",
        "\n",
        "    self.fc1 = nn.Linear(32 * 3 * 3, 128)  # after 3 pools: 28->14->7->3\n",
        "    self.fc2 = nn.Linear(128, 10)\n",
        "\n",
        "  def forward(self, x):\n",
        "    # Conv1 + Pool\n",
        "    x = F.relu(self.conv1(x))\n",
        "    x = F.max_pool2d(x, 2, 2)  # 28 -> 14\n",
        "\n",
        "    # Conv2 + Pool\n",
        "    x = F.relu(self.conv2(x))\n",
        "    x = F.max_pool2d(x, 2, 2)  # 14 -> 7\n",
        "\n",
        "    # Conv3 + Pool\n",
        "    x = F.relu(self.conv3(x))\n",
        "    x = F.max_pool2d(x, 2, 2)  # 7 -> 3\n",
        "\n",
        "    # Flatten\n",
        "    x = x.view(-1, 32 * 3 * 3)\n",
        "\n",
        "    # Fully connected\n",
        "    x = F.relu(self.fc1(x))\n",
        "    x = self.fc2(x)\n",
        "\n",
        "    return F.log_softmax(x, dim=1)"
      ],
      "metadata": {
        "id": "I-A9jyLt3mHE"
      },
      "execution_count": 4,
      "outputs": []
    },
    {
      "cell_type": "markdown",
      "source": [
        "##### Random Seeds and Model Instance"
      ],
      "metadata": {
        "id": "LMlxOyZOSlOo"
      }
    },
    {
      "cell_type": "code",
      "source": [
        "torch.manual_seed(41)\n",
        "model = ConvolutionalNetwork()"
      ],
      "metadata": {
        "id": "3sHXmgT177oB"
      },
      "execution_count": 5,
      "outputs": []
    },
    {
      "cell_type": "markdown",
      "source": [
        "##### Loss & Optimizer"
      ],
      "metadata": {
        "id": "aHaLNfV7Sxuo"
      }
    },
    {
      "cell_type": "code",
      "source": [
        "criterion = nn.CrossEntropyLoss()\n",
        "optimizer = torch.optim.Adam(model.parameters(), lr=0.001)"
      ],
      "metadata": {
        "id": "mPaiR6lW8YD4"
      },
      "execution_count": 6,
      "outputs": []
    },
    {
      "cell_type": "markdown",
      "source": [
        "##### Time Function"
      ],
      "metadata": {
        "id": "NrpKGYDNS-iO"
      }
    },
    {
      "cell_type": "code",
      "source": [
        "def totalTime(start_time):\n",
        "  current_time = time.time()\n",
        "  total_time = (current_time - start_time) / 60\n",
        "  return round(total_time, 2)"
      ],
      "metadata": {
        "id": "JMFkCKWiL7Br"
      },
      "execution_count": 7,
      "outputs": []
    },
    {
      "cell_type": "markdown",
      "source": [
        "##### Model Training & Testing"
      ],
      "metadata": {
        "id": "9iATwNu4TFtT"
      }
    },
    {
      "cell_type": "code",
      "source": [
        "# Variables to track things\n",
        "epochs = 5\n",
        "train_losses = []\n",
        "train_correct = []\n",
        "test_losses = []\n",
        "test_correct = []"
      ],
      "metadata": {
        "id": "yYmIIf2_fRvy"
      },
      "execution_count": 8,
      "outputs": []
    },
    {
      "cell_type": "code",
      "source": [
        "# -------------------\n",
        "# Training function\n",
        "# -------------------\n",
        "def train(epoch, model, train_loader, criterion, optimizer):\n",
        "  model.train()\n",
        "\n",
        "  trn_corr = 0\n",
        "\n",
        "  for b, (X_train, y_train) in enumerate(train_loader):\n",
        "    b += 1\n",
        "    y_pred = model(X_train)\n",
        "    loss = criterion(y_pred, y_train)\n",
        "    predicted = torch.max(y_pred.data, 1)[1]\n",
        "    trn_corr += (predicted == y_train).sum()\n",
        "\n",
        "    # Back-propagation & Update parameters\n",
        "    optimizer.zero_grad()\n",
        "    loss.backward()\n",
        "    optimizer.step()\n",
        "\n",
        "    # Print out results\n",
        "    if b % 600 == 0:\n",
        "      print(f\"Epoch: {epoch + 1} [{b * len(X_train)}/{len(train_loader.dataset)} \"\n",
        "            f\"({100. * b / len(train_loader):.0f}%)]\\tLoss: {loss.item():.6f}\")\n",
        "\n",
        "  print(\"\\n\")\n",
        "  train_losses.append(loss)\n",
        "  train_correct.append(trn_corr)"
      ],
      "metadata": {
        "id": "hs5K5NxtOI1H"
      },
      "execution_count": 9,
      "outputs": []
    },
    {
      "cell_type": "code",
      "source": [
        "# -------------------\n",
        "# Test function\n",
        "# -------------------\n",
        "def test(model, test_loader, criterion, optimizer):\n",
        "  model.eval()\n",
        "  tst_corr = 0\n",
        "\n",
        "  with torch.no_grad():\n",
        "    for X_test, y_test in test_loader:\n",
        "      y_val = model(X_test)\n",
        "      predicted = torch.max(y_val.data, 1)[1]\n",
        "      tst_corr += (predicted == y_test).sum()\n",
        "\n",
        "  loss = criterion(y_val, y_test)\n",
        "  test_losses.append(loss)\n",
        "  test_correct.append(tst_corr)"
      ],
      "metadata": {
        "id": "WnJL9dougICy"
      },
      "execution_count": 10,
      "outputs": []
    },
    {
      "cell_type": "code",
      "source": [
        "start_time = time.time()\n",
        "\n",
        "# Loop through the epochs\n",
        "for epoch in range(epochs):\n",
        "  train(epoch, model, train_loader, criterion, optimizer)\n",
        "  test(model, test_loader, criterion, optimizer)\n",
        "\n",
        "print(f'Time taken: {totalTime(start_time)} minutes!')"
      ],
      "metadata": {
        "colab": {
          "base_uri": "https://localhost:8080/"
        },
        "id": "LWMW0bC4ltMf",
        "outputId": "66c9c421-d2e6-4227-ec4c-19b2a21abf88"
      },
      "execution_count": 11,
      "outputs": [
        {
          "output_type": "stream",
          "name": "stdout",
          "text": [
            "Epoch: 1 [6000/60000 (10%)]\tLoss: 0.362953\n",
            "Epoch: 1 [12000/60000 (20%)]\tLoss: 0.326838\n",
            "Epoch: 1 [18000/60000 (30%)]\tLoss: 0.157776\n",
            "Epoch: 1 [24000/60000 (40%)]\tLoss: 0.393417\n",
            "Epoch: 1 [30000/60000 (50%)]\tLoss: 0.760702\n",
            "Epoch: 1 [36000/60000 (60%)]\tLoss: 0.052370\n",
            "Epoch: 1 [42000/60000 (70%)]\tLoss: 0.087383\n",
            "Epoch: 1 [48000/60000 (80%)]\tLoss: 0.104751\n",
            "Epoch: 1 [54000/60000 (90%)]\tLoss: 0.260702\n",
            "Epoch: 1 [60000/60000 (100%)]\tLoss: 0.345468\n",
            "\n",
            "\n",
            "Epoch: 2 [6000/60000 (10%)]\tLoss: 0.069497\n",
            "Epoch: 2 [12000/60000 (20%)]\tLoss: 0.459187\n",
            "Epoch: 2 [18000/60000 (30%)]\tLoss: 0.634171\n",
            "Epoch: 2 [24000/60000 (40%)]\tLoss: 0.460609\n",
            "Epoch: 2 [30000/60000 (50%)]\tLoss: 0.102449\n",
            "Epoch: 2 [36000/60000 (60%)]\tLoss: 0.465544\n",
            "Epoch: 2 [42000/60000 (70%)]\tLoss: 0.836352\n",
            "Epoch: 2 [48000/60000 (80%)]\tLoss: 0.610002\n",
            "Epoch: 2 [54000/60000 (90%)]\tLoss: 0.141194\n",
            "Epoch: 2 [60000/60000 (100%)]\tLoss: 0.620743\n",
            "\n",
            "\n",
            "Epoch: 3 [6000/60000 (10%)]\tLoss: 0.380699\n",
            "Epoch: 3 [12000/60000 (20%)]\tLoss: 0.313138\n",
            "Epoch: 3 [18000/60000 (30%)]\tLoss: 0.134926\n",
            "Epoch: 3 [24000/60000 (40%)]\tLoss: 0.327164\n",
            "Epoch: 3 [30000/60000 (50%)]\tLoss: 0.386802\n",
            "Epoch: 3 [36000/60000 (60%)]\tLoss: 0.479785\n",
            "Epoch: 3 [42000/60000 (70%)]\tLoss: 0.261805\n",
            "Epoch: 3 [48000/60000 (80%)]\tLoss: 0.382342\n",
            "Epoch: 3 [54000/60000 (90%)]\tLoss: 0.689458\n",
            "Epoch: 3 [60000/60000 (100%)]\tLoss: 0.141957\n",
            "\n",
            "\n",
            "Epoch: 4 [6000/60000 (10%)]\tLoss: 0.182888\n",
            "Epoch: 4 [12000/60000 (20%)]\tLoss: 0.132384\n",
            "Epoch: 4 [18000/60000 (30%)]\tLoss: 0.160313\n",
            "Epoch: 4 [24000/60000 (40%)]\tLoss: 0.375468\n",
            "Epoch: 4 [30000/60000 (50%)]\tLoss: 0.147976\n",
            "Epoch: 4 [36000/60000 (60%)]\tLoss: 0.095236\n",
            "Epoch: 4 [42000/60000 (70%)]\tLoss: 0.396405\n",
            "Epoch: 4 [48000/60000 (80%)]\tLoss: 0.218259\n",
            "Epoch: 4 [54000/60000 (90%)]\tLoss: 0.600317\n",
            "Epoch: 4 [60000/60000 (100%)]\tLoss: 0.256964\n",
            "\n",
            "\n",
            "Epoch: 5 [6000/60000 (10%)]\tLoss: 0.841121\n",
            "Epoch: 5 [12000/60000 (20%)]\tLoss: 0.125797\n",
            "Epoch: 5 [18000/60000 (30%)]\tLoss: 0.228504\n",
            "Epoch: 5 [24000/60000 (40%)]\tLoss: 0.275389\n",
            "Epoch: 5 [30000/60000 (50%)]\tLoss: 0.306544\n",
            "Epoch: 5 [36000/60000 (60%)]\tLoss: 0.019412\n",
            "Epoch: 5 [42000/60000 (70%)]\tLoss: 0.127328\n",
            "Epoch: 5 [48000/60000 (80%)]\tLoss: 0.384373\n",
            "Epoch: 5 [54000/60000 (90%)]\tLoss: 0.263137\n",
            "Epoch: 5 [60000/60000 (100%)]\tLoss: 0.311783\n",
            "\n",
            "\n",
            "Time taken: 4.11 minutes!\n"
          ]
        }
      ]
    },
    {
      "cell_type": "markdown",
      "source": [
        "##### Plots"
      ],
      "metadata": {
        "id": "0HIda-8iUPRM"
      }
    },
    {
      "cell_type": "code",
      "source": [
        "# ------------------------\n",
        "# Plot the loss at each Epoch\n",
        "# ------------------------\n",
        "plt.plot([loss.detach().numpy() for loss in train_losses], label='Training Loss')\n",
        "plt.plot([loss.detach().numpy() for loss in test_losses], label='Testing Loss')\n",
        "plt.title('Loss at Epoch')\n",
        "plt.legend()"
      ],
      "metadata": {
        "id": "FGdmJ607s5iL",
        "colab": {
          "base_uri": "https://localhost:8080/",
          "height": 469
        },
        "outputId": "afb42939-3a56-47f1-e8a6-5c6893f96df5"
      },
      "execution_count": 12,
      "outputs": [
        {
          "output_type": "execute_result",
          "data": {
            "text/plain": [
              "<matplotlib.legend.Legend at 0x7ca883b87320>"
            ]
          },
          "metadata": {},
          "execution_count": 12
        },
        {
          "output_type": "display_data",
          "data": {
            "text/plain": [
              "<Figure size 640x480 with 1 Axes>"
            ],
            "image/png": "[encoded data removed]"
          },
          "metadata": {}
        }
      ]
    },
    {
      "cell_type": "code",
      "source": [
        "# --------------------------------------------\n",
        "# Plot the accuracy at the end of each Epoch\n",
        "# --------------------------------------------\n",
        "plt.plot([t/600 for t in train_correct], label='Training Accuracy')\n",
        "plt.plot([t/100 for t in test_correct], label='Testing Accuracy')\n",
        "plt.title('Accuracy at Epoch')\n",
        "plt.legend()"
      ],
      "metadata": {
        "id": "tdO9cKhfte__",
        "colab": {
          "base_uri": "https://localhost:8080/",
          "height": 469
        },
        "outputId": "976ae561-a598-41a8-e6e1-7c738b713ddf"
      },
      "execution_count": 13,
      "outputs": [
        {
          "output_type": "execute_result",
          "data": {
            "text/plain": [
              "<matplotlib.legend.Legend at 0x7ca883749460>"
            ]
          },
          "metadata": {},
          "execution_count": 13
        },
        {
          "output_type": "display_data",
          "data": {
            "text/plain": [
              "<Figure size 640x480 with 1 Axes>"
            ],
            "image/png": "[encoded data removed]"
          },
          "metadata": {}
        }
      ]
    },
    {
      "cell_type": "markdown",
      "source": [
        "##### Test Accuracy"
      ],
      "metadata": {
        "id": "a-f6vzVzcYkR"
      }
    },
    {
      "cell_type": "code",
      "source": [
        "with torch.no_grad():\n",
        "  correct = 0\n",
        "  for X_test, y_test in test_loader:\n",
        "    y_val = model(X_test)\n",
        "    predicted = torch.max(y_val, 1)[1]\n",
        "    correct += (predicted == y_test).sum()"
      ],
      "metadata": {
        "id": "Ckz1_K4kvBFe"
      },
      "execution_count": 14,
      "outputs": []
    },
    {
      "cell_type": "code",
      "source": [
        "# Test for correct\n",
        "correct.item() / len(test_data) * 100\n",
        "print(f'Test Accuracy: {round(correct.item()/len(test_data) * 100, 2)}%')"
      ],
      "metadata": {
        "id": "7lWb2Wf_vsmF",
        "colab": {
          "base_uri": "https://localhost:8080/"
        },
        "outputId": "3d52bcfc-8dbf-4ad7-c777-12cf5db4d0c7"
      },
      "execution_count": 15,
      "outputs": [
        {
          "output_type": "stream",
          "name": "stdout",
          "text": [
            "Test Accuracy: 89.3%\n"
          ]
        }
      ]
    },
    {
      "cell_type": "markdown",
      "source": [
        "##### Test on New Images"
      ],
      "metadata": {
        "id": "fLuFcmKbccyc"
      }
    },
    {
      "cell_type": "code",
      "source": [
        "# Taking an Test Image 1\n",
        "test_image1 = test_data[4133][0]"
      ],
      "metadata": {
        "id": "HM_MIekAw-Xn"
      },
      "execution_count": 16,
      "outputs": []
    },
    {
      "cell_type": "code",
      "source": [
        "plt.imshow(test_image1.reshape(28, 28))"
      ],
      "metadata": {
        "id": "BrXFCjancr9Q",
        "outputId": "5db194f6-6634-4448-8ea4-bc79610c9f22",
        "colab": {
          "base_uri": "https://localhost:8080/",
          "height": 447
        }
      },
      "execution_count": 17,
      "outputs": [
        {
          "output_type": "execute_result",
          "data": {
            "text/plain": [
              "<matplotlib.image.AxesImage at 0x7ca883293e00>"
            ]
          },
          "metadata": {},
          "execution_count": 17
        },
        {
          "output_type": "display_data",
          "data": {
            "text/plain": [
              "<Figure size 640x480 with 1 Axes>"
            ],
            "image/png": "[encoded data removed]"
          },
          "metadata": {}
        }
      ]
    },
    {
      "cell_type": "code",
      "source": [
        "# New Prediction: Passing the image through our model\n",
        "model.eval()\n",
        "\n",
        "with torch.no_grad():\n",
        "  output = model(test_image1.view(1, 1, 28, 28))"
      ],
      "metadata": {
        "id": "td5MrFg-cxUq"
      },
      "execution_count": 18,
      "outputs": []
    },
    {
      "cell_type": "code",
      "source": [
        "# Check the new prediction\n",
        "classes[output.argmax()]"
      ],
      "metadata": {
        "id": "sIUqQgjtc1Ae",
        "outputId": "e16c5a72-0eb0-4df7-8b45-d9e9a9475d4c",
        "colab": {
          "base_uri": "https://localhost:8080/",
          "height": 35
        }
      },
      "execution_count": 19,
      "outputs": [
        {
          "output_type": "execute_result",
          "data": {
            "text/plain": [
              "'Ankle Boot'"
            ],
            "application/vnd.google.colaboratory.intrinsic+json": {
              "type": "string"
            }
          },
          "metadata": {},
          "execution_count": 19
        }
      ]
    },
    {
      "cell_type": "code",
      "source": [
        "# Taking an Test Image 2\n",
        "test_image2 = test_data[1273][0]"
      ],
      "metadata": {
        "id": "ayWJaAyyc4oS"
      },
      "execution_count": 24,
      "outputs": []
    },
    {
      "cell_type": "code",
      "source": [
        "plt.imshow(test_image2.reshape(28, 28))"
      ],
      "metadata": {
        "id": "D7y8rzVJc7jY",
        "outputId": "c9ac0138-dd2c-428e-8206-f1b9670079f7",
        "colab": {
          "base_uri": "https://localhost:8080/",
          "height": 447
        }
      },
      "execution_count": 25,
      "outputs": [
        {
          "output_type": "execute_result",
          "data": {
            "text/plain": [
              "<matplotlib.image.AxesImage at 0x7ca8828fc1d0>"
            ]
          },
          "metadata": {},
          "execution_count": 25
        },
        {
          "output_type": "display_data",
          "data": {
            "text/plain": [
              "<Figure size 640x480 with 1 Axes>"
            ],
            "image/png": "[encoded data removed]"
          },
          "metadata": {}
        }
      ]
    },
    {
      "cell_type": "code",
      "source": [
        "# Another Prediction: Passing the image through our model\n",
        "model.eval()\n",
        "\n",
        "with torch.no_grad():\n",
        "  output2 = model(test_image2.view(1, 1, 28, 28))"
      ],
      "metadata": {
        "id": "5b5-PDMXc-05"
      },
      "execution_count": 26,
      "outputs": []
    },
    {
      "cell_type": "code",
      "source": [
        "# Check the new prediction\n",
        "classes[output2.argmax()]"
      ],
      "metadata": {
        "id": "UAzN9ZZwdEL6",
        "outputId": "8cf697b6-8da5-45a1-fb03-5ec732d72eda",
        "colab": {
          "base_uri": "https://localhost:8080/",
          "height": 35
        }
      },
      "execution_count": 27,
      "outputs": [
        {
          "output_type": "execute_result",
          "data": {
            "text/plain": [
              "'T-shirt/top'"
            ],
            "application/vnd.google.colaboratory.intrinsic+json": {
              "type": "string"
            }
          },
          "metadata": {},
          "execution_count": 27
        }
      ]
    }
  ]
}