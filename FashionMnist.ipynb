{
  "nbformat": 4,
  "nbformat_minor": 0,
  "metadata": {
    "colab": {
      "provenance": [],
      "authorship_tag": "ABX9TyP+uo3tLX/uUqlg6v3uf1NC",
      "include_colab_link": true
    },
    "kernelspec": {
      "name": "python3",
      "display_name": "Python 3"
    },
    "language_info": {
      "name": "python"
    }
  },
  "cells": [
    {
      "cell_type": "markdown",
      "metadata": {
        "id": "view-in-github",
        "colab_type": "text"
      },
      "source": [
        "<a href=\"https://colab.research.google.com/github/rrankawat/pytorch-cnn/blob/main/FashionMnist.ipynb\" target=\"_parent\"><img src=\"https://colab.research.google.com/assets/colab-badge.svg\" alt=\"Open In Colab\"/></a>"
      ]
    },
    {
      "cell_type": "markdown",
      "source": [
        "##### Import Libraries"
      ],
      "metadata": {
        "id": "vpg7Ze4qR3kS"
      }
    },
    {
      "cell_type": "code",
      "execution_count": 58,
      "metadata": {
        "id": "J1QxauLw2LuA"
      },
      "outputs": [],
      "source": [
        "import torch\n",
        "import torch.nn as nn\n",
        "import torch.nn.functional as F\n",
        "from torch.utils.data import DataLoader\n",
        "from torchvision import datasets, transforms\n",
        "from torchvision.utils import make_grid\n",
        "\n",
        "import numpy as np\n",
        "import pandas as pd\n",
        "from sklearn.metrics import confusion_matrix\n",
        "import matplotlib.pyplot as plt\n",
        "%matplotlib inline\n",
        "\n",
        "import time"
      ]
    },
    {
      "cell_type": "markdown",
      "source": [
        "##### Data Loading & Converting To Batches"
      ],
      "metadata": {
        "id": "cfQbWEf3SH30"
      }
    },
    {
      "cell_type": "code",
      "source": [
        "train_data = datasets.FashionMNIST(root='./data', train=True, download=True, transform=transforms.ToTensor())\n",
        "test_data = datasets.FashionMNIST(root='./data', train=False, download=True, transform=transforms.ToTensor())\n",
        "\n",
        "train_loader = DataLoader(train_data, batch_size=10, shuffle=True)\n",
        "test_loader = DataLoader(test_data, batch_size=10, shuffle=False)"
      ],
      "metadata": {
        "id": "6deQSnsg54uL"
      },
      "execution_count": 59,
      "outputs": []
    },
    {
      "cell_type": "code",
      "source": [
        "classes = ('T-shirt/top', 'Trouser', 'Pullover', 'Dress', 'Coat', 'Sandal', 'Shirt', 'Sneaker', 'Bag', 'Ankle Boot')"
      ],
      "metadata": {
        "id": "vvMT7o2FfvpU"
      },
      "execution_count": 81,
      "outputs": []
    },
    {
      "cell_type": "markdown",
      "source": [
        "##### CNN Model"
      ],
      "metadata": {
        "id": "xrj052fYSTNO"
      }
    },
    {
      "cell_type": "code",
      "source": [
        "class ConvolutionalNetwork(nn.Module):\n",
        "  def __init__(self):\n",
        "    super().__init__()\n",
        "    self.conv1 = nn.Conv2d(1, 6, 3, 1)\n",
        "    self.conv2 = nn.Conv2d(6, 16, 3, 1)\n",
        "    self.fc1 = nn.Linear(16 * 5 * 5, 120)\n",
        "    self.fc2 = nn.Linear(120, 84)\n",
        "    self.fc3 = nn.Linear(84, 10)\n",
        "\n",
        "  def forward(self, X):\n",
        "    # First Pass\n",
        "    X = F.relu(self.conv1(X))\n",
        "    X = F.max_pool2d(X, 2, 2)\n",
        "\n",
        "    # Second Pass\n",
        "    X = F.relu(self.conv2(X))\n",
        "    X = F.max_pool2d(X, 2, 2)\n",
        "\n",
        "    # Re-view to flatten it out\n",
        "    X = X.view(-1, 16 * 5 * 5)\n",
        "\n",
        "    # Fully Connected Layers\n",
        "    X = F.relu(self.fc1(X))\n",
        "    X = F.relu(self.fc2(X))\n",
        "    X = self.fc3(X)\n",
        "\n",
        "    return F.log_softmax(X, dim=1)"
      ],
      "metadata": {
        "id": "I-A9jyLt3mHE"
      },
      "execution_count": 61,
      "outputs": []
    },
    {
      "cell_type": "markdown",
      "source": [
        "##### Random Seeds and Model Instance"
      ],
      "metadata": {
        "id": "LMlxOyZOSlOo"
      }
    },
    {
      "cell_type": "code",
      "source": [
        "torch.manual_seed(41)\n",
        "model = ConvolutionalNetwork()"
      ],
      "metadata": {
        "id": "3sHXmgT177oB"
      },
      "execution_count": 62,
      "outputs": []
    },
    {
      "cell_type": "markdown",
      "source": [
        "##### Loss & Optimizer"
      ],
      "metadata": {
        "id": "aHaLNfV7Sxuo"
      }
    },
    {
      "cell_type": "code",
      "source": [
        "criterion = nn.CrossEntropyLoss()\n",
        "optimizer = torch.optim.Adam(model.parameters(), lr=0.001)"
      ],
      "metadata": {
        "id": "mPaiR6lW8YD4"
      },
      "execution_count": 63,
      "outputs": []
    },
    {
      "cell_type": "markdown",
      "source": [
        "##### Time Function"
      ],
      "metadata": {
        "id": "NrpKGYDNS-iO"
      }
    },
    {
      "cell_type": "code",
      "source": [
        "def totalTime(start_time):\n",
        "  current_time = time.time()\n",
        "  total_time = (current_time - start_time) / 60\n",
        "  return round(total_time, 2)"
      ],
      "metadata": {
        "id": "JMFkCKWiL7Br"
      },
      "execution_count": 64,
      "outputs": []
    },
    {
      "cell_type": "markdown",
      "source": [
        "##### Model Training & Testing"
      ],
      "metadata": {
        "id": "9iATwNu4TFtT"
      }
    },
    {
      "cell_type": "code",
      "source": [
        "# Variables to track things\n",
        "epochs = 5\n",
        "train_losses = []\n",
        "train_correct = []\n",
        "test_losses = []\n",
        "test_correct = []"
      ],
      "metadata": {
        "id": "yYmIIf2_fRvy"
      },
      "execution_count": 65,
      "outputs": []
    },
    {
      "cell_type": "code",
      "source": [
        "# -------------------\n",
        "# Training function\n",
        "# -------------------\n",
        "def train(epoch, model, train_loader, criterion, optimizer):\n",
        "  model.train()\n",
        "\n",
        "  trn_corr = 0\n",
        "\n",
        "  for b, (X_train, y_train) in enumerate(train_loader):\n",
        "    b += 1\n",
        "    y_pred = model(X_train)\n",
        "    loss = criterion(y_pred, y_train)\n",
        "    predicted = torch.max(y_pred.data, 1)[1]\n",
        "    trn_corr += (predicted == y_train).sum()\n",
        "\n",
        "    # Back-propagation & Update parameters\n",
        "    optimizer.zero_grad()\n",
        "    loss.backward()\n",
        "    optimizer.step()\n",
        "\n",
        "    # Print out results\n",
        "    if b % 600 == 0:\n",
        "      print(f\"Epoch: {epoch + 1} [{b * len(X_train)}/{len(train_loader.dataset)} \"\n",
        "            f\"({100. * b / len(train_loader):.0f}%)]\\tLoss: {loss.item():.6f}\")\n",
        "\n",
        "  print(\"\\n\")\n",
        "  train_losses.append(loss)\n",
        "  train_correct.append(trn_corr)"
      ],
      "metadata": {
        "id": "hs5K5NxtOI1H"
      },
      "execution_count": 66,
      "outputs": []
    },
    {
      "cell_type": "code",
      "source": [
        "# -------------------\n",
        "# Test function\n",
        "# -------------------\n",
        "def test(model, test_loader, criterion, optimizer):\n",
        "  model.eval()\n",
        "  tst_corr = 0\n",
        "\n",
        "  with torch.no_grad():\n",
        "    for X_test, y_test in test_loader:\n",
        "      y_val = model(X_test)\n",
        "      predicted = torch.max(y_val.data, 1)[1]\n",
        "      tst_corr += (predicted == y_test).sum()\n",
        "\n",
        "  loss = criterion(y_val, y_test)\n",
        "  test_losses.append(loss)\n",
        "  test_correct.append(tst_corr)"
      ],
      "metadata": {
        "id": "WnJL9dougICy"
      },
      "execution_count": 67,
      "outputs": []
    },
    {
      "cell_type": "code",
      "source": [
        "start_time = time.time()\n",
        "\n",
        "# Loop through the epochs\n",
        "for epoch in range(epochs):\n",
        "  train(epoch, model, train_loader, criterion, optimizer)\n",
        "  test(model, test_loader, criterion, optimizer)\n",
        "\n",
        "print(f'Time taken: {totalTime(start_time)} minutes!')"
      ],
      "metadata": {
        "colab": {
          "base_uri": "https://localhost:8080/"
        },
        "id": "LWMW0bC4ltMf",
        "outputId": "c62a0a5a-1ca8-4c1b-a325-54ecfe2823d6"
      },
      "execution_count": 68,
      "outputs": [
        {
          "output_type": "stream",
          "name": "stdout",
          "text": [
            "Epoch: 1 [6000/60000 (10%)]\tLoss: 0.626664\n",
            "Epoch: 1 [12000/60000 (20%)]\tLoss: 0.351763\n",
            "Epoch: 1 [18000/60000 (30%)]\tLoss: 0.139812\n",
            "Epoch: 1 [24000/60000 (40%)]\tLoss: 0.439566\n",
            "Epoch: 1 [30000/60000 (50%)]\tLoss: 0.417436\n",
            "Epoch: 1 [36000/60000 (60%)]\tLoss: 0.505042\n",
            "Epoch: 1 [42000/60000 (70%)]\tLoss: 0.432231\n",
            "Epoch: 1 [48000/60000 (80%)]\tLoss: 0.410335\n",
            "Epoch: 1 [54000/60000 (90%)]\tLoss: 0.060237\n",
            "Epoch: 1 [60000/60000 (100%)]\tLoss: 0.439208\n",
            "\n",
            "\n",
            "Epoch: 2 [6000/60000 (10%)]\tLoss: 0.109809\n",
            "Epoch: 2 [12000/60000 (20%)]\tLoss: 0.280083\n",
            "Epoch: 2 [18000/60000 (30%)]\tLoss: 0.491054\n",
            "Epoch: 2 [24000/60000 (40%)]\tLoss: 0.230650\n",
            "Epoch: 2 [30000/60000 (50%)]\tLoss: 0.125036\n",
            "Epoch: 2 [36000/60000 (60%)]\tLoss: 0.293542\n",
            "Epoch: 2 [42000/60000 (70%)]\tLoss: 0.436008\n",
            "Epoch: 2 [48000/60000 (80%)]\tLoss: 0.050899\n",
            "Epoch: 2 [54000/60000 (90%)]\tLoss: 0.232114\n",
            "Epoch: 2 [60000/60000 (100%)]\tLoss: 1.142078\n",
            "\n",
            "\n",
            "Epoch: 3 [6000/60000 (10%)]\tLoss: 0.064980\n",
            "Epoch: 3 [12000/60000 (20%)]\tLoss: 0.497171\n",
            "Epoch: 3 [18000/60000 (30%)]\tLoss: 0.399150\n",
            "Epoch: 3 [24000/60000 (40%)]\tLoss: 0.389321\n",
            "Epoch: 3 [30000/60000 (50%)]\tLoss: 1.092478\n",
            "Epoch: 3 [36000/60000 (60%)]\tLoss: 0.240274\n",
            "Epoch: 3 [42000/60000 (70%)]\tLoss: 0.223098\n",
            "Epoch: 3 [48000/60000 (80%)]\tLoss: 0.140091\n",
            "Epoch: 3 [54000/60000 (90%)]\tLoss: 0.334232\n",
            "Epoch: 3 [60000/60000 (100%)]\tLoss: 0.581115\n",
            "\n",
            "\n",
            "Epoch: 4 [6000/60000 (10%)]\tLoss: 0.515441\n",
            "Epoch: 4 [12000/60000 (20%)]\tLoss: 0.180648\n",
            "Epoch: 4 [18000/60000 (30%)]\tLoss: 0.302959\n",
            "Epoch: 4 [24000/60000 (40%)]\tLoss: 0.297968\n",
            "Epoch: 4 [30000/60000 (50%)]\tLoss: 0.274392\n",
            "Epoch: 4 [36000/60000 (60%)]\tLoss: 0.232708\n",
            "Epoch: 4 [42000/60000 (70%)]\tLoss: 0.175613\n",
            "Epoch: 4 [48000/60000 (80%)]\tLoss: 0.239874\n",
            "Epoch: 4 [54000/60000 (90%)]\tLoss: 0.459322\n",
            "Epoch: 4 [60000/60000 (100%)]\tLoss: 0.750044\n",
            "\n",
            "\n",
            "Epoch: 5 [6000/60000 (10%)]\tLoss: 0.076811\n",
            "Epoch: 5 [12000/60000 (20%)]\tLoss: 0.384173\n",
            "Epoch: 5 [18000/60000 (30%)]\tLoss: 0.245725\n",
            "Epoch: 5 [24000/60000 (40%)]\tLoss: 0.136667\n",
            "Epoch: 5 [30000/60000 (50%)]\tLoss: 0.181967\n",
            "Epoch: 5 [36000/60000 (60%)]\tLoss: 0.083446\n",
            "Epoch: 5 [42000/60000 (70%)]\tLoss: 1.209221\n",
            "Epoch: 5 [48000/60000 (80%)]\tLoss: 0.149090\n",
            "Epoch: 5 [54000/60000 (90%)]\tLoss: 0.087800\n",
            "Epoch: 5 [60000/60000 (100%)]\tLoss: 0.410047\n",
            "\n",
            "\n",
            "Time taken: 3.64 minutes!\n"
          ]
        }
      ]
    },
    {
      "cell_type": "markdown",
      "source": [
        "##### Plots"
      ],
      "metadata": {
        "id": "0HIda-8iUPRM"
      }
    },
    {
      "cell_type": "code",
      "source": [
        "# ------------------------\n",
        "# Plot the loss at each Epoch\n",
        "# ------------------------\n",
        "plt.plot([loss.detach().numpy() for loss in train_losses], label='Training Loss')\n",
        "plt.plot([loss.detach().numpy() for loss in test_losses], label='Testing Loss')\n",
        "plt.title('Loss at Epoch')\n",
        "plt.legend()"
      ],
      "metadata": {
        "id": "FGdmJ607s5iL",
        "colab": {
          "base_uri": "https://localhost:8080/",
          "height": 469
        },
        "outputId": "50961051-9db2-4c23-b96c-4d88df602606"
      },
      "execution_count": 69,
      "outputs": [
        {
          "output_type": "execute_result",
          "data": {
            "text/plain": [
              "<matplotlib.legend.Legend at 0x7efe1e1358e0>"
            ]
          },
          "metadata": {},
          "execution_count": 69
        },
        {
          "output_type": "display_data",
          "data": {
            "text/plain": [
              "<Figure size 640x480 with 1 Axes>"
            ],
            "image/png": "[encoded data removed]"
          },
          "metadata": {}
        }
      ]
    },
    {
      "cell_type": "code",
      "source": [
        "# --------------------------------------------\n",
        "# Plot the accuracy at the end of each Epoch\n",
        "# --------------------------------------------\n",
        "plt.plot([t/600 for t in train_correct], label='Training Accuracy')\n",
        "plt.plot([t/100 for t in test_correct], label='Testing Accuracy')\n",
        "plt.title('Accuracy at Epoch')\n",
        "plt.legend()"
      ],
      "metadata": {
        "id": "tdO9cKhfte__",
        "colab": {
          "base_uri": "https://localhost:8080/",
          "height": 469
        },
        "outputId": "045a7f1a-330b-47c1-c65c-b592e460855a"
      },
      "execution_count": 70,
      "outputs": [
        {
          "output_type": "execute_result",
          "data": {
            "text/plain": [
              "<matplotlib.legend.Legend at 0x7efe1cf558e0>"
            ]
          },
          "metadata": {},
          "execution_count": 70
        },
        {
          "output_type": "display_data",
          "data": {
            "text/plain": [
              "<Figure size 640x480 with 1 Axes>"
            ],
            "image/png": "[encoded data removed]"
          },
          "metadata": {}
        }
      ]
    },
    {
      "cell_type": "markdown",
      "source": [
        "##### Test Accuracy"
      ],
      "metadata": {
        "id": "a-f6vzVzcYkR"
      }
    },
    {
      "cell_type": "code",
      "source": [
        "with torch.no_grad():\n",
        "  correct = 0\n",
        "  for X_test, y_test in test_loader:\n",
        "    y_val = model(X_test)\n",
        "    predicted = torch.max(y_val, 1)[1]\n",
        "    correct += (predicted == y_test).sum()"
      ],
      "metadata": {
        "id": "Ckz1_K4kvBFe"
      },
      "execution_count": 71,
      "outputs": []
    },
    {
      "cell_type": "code",
      "source": [
        "# Test for correct\n",
        "correct.item() / len(test_data) * 100\n",
        "print(f'Test Accuracy: {round(correct.item()/len(test_data) * 100, 2)}%')"
      ],
      "metadata": {
        "id": "7lWb2Wf_vsmF",
        "colab": {
          "base_uri": "https://localhost:8080/"
        },
        "outputId": "7ecb7ea2-7141-4cd4-ae7e-9f24b0cb210e"
      },
      "execution_count": 72,
      "outputs": [
        {
          "output_type": "stream",
          "name": "stdout",
          "text": [
            "Test Accuracy: 89.59%\n"
          ]
        }
      ]
    },
    {
      "cell_type": "markdown",
      "source": [
        "##### Test on New Images"
      ],
      "metadata": {
        "id": "fLuFcmKbccyc"
      }
    },
    {
      "cell_type": "code",
      "source": [
        "# Taking an Test Image 1\n",
        "test_image1 = test_data[4133][0]"
      ],
      "metadata": {
        "id": "HM_MIekAw-Xn"
      },
      "execution_count": 73,
      "outputs": []
    },
    {
      "cell_type": "code",
      "source": [
        "plt.imshow(test_image1.reshape(28, 28))"
      ],
      "metadata": {
        "id": "BrXFCjancr9Q",
        "outputId": "24532bd5-3bb3-481b-cd92-783ca7d870d6",
        "colab": {
          "base_uri": "https://localhost:8080/",
          "height": 447
        }
      },
      "execution_count": 74,
      "outputs": [
        {
          "output_type": "execute_result",
          "data": {
            "text/plain": [
              "<matplotlib.image.AxesImage at 0x7efe1ccfcef0>"
            ]
          },
          "metadata": {},
          "execution_count": 74
        },
        {
          "output_type": "display_data",
          "data": {
            "text/plain": [
              "<Figure size 640x480 with 1 Axes>"
            ],
            "image/png": "[encoded data removed]"
          },
          "metadata": {}
        }
      ]
    },
    {
      "cell_type": "code",
      "source": [
        "# New Prediction: Passing the image through our model\n",
        "model.eval()\n",
        "\n",
        "with torch.no_grad():\n",
        "  output = model(test_image1.view(1, 1, 28, 28))"
      ],
      "metadata": {
        "id": "td5MrFg-cxUq"
      },
      "execution_count": 75,
      "outputs": []
    },
    {
      "cell_type": "code",
      "source": [
        "# Check the new prediction\n",
        "classes[output.argmax()]"
      ],
      "metadata": {
        "id": "sIUqQgjtc1Ae",
        "outputId": "1daf984d-f066-4063-be1b-6cba2934bc2f",
        "colab": {
          "base_uri": "https://localhost:8080/",
          "height": 35
        }
      },
      "execution_count": 82,
      "outputs": [
        {
          "output_type": "execute_result",
          "data": {
            "text/plain": [
              "'Ankle Boot'"
            ],
            "application/vnd.google.colaboratory.intrinsic+json": {
              "type": "string"
            }
          },
          "metadata": {},
          "execution_count": 82
        }
      ]
    },
    {
      "cell_type": "code",
      "source": [
        "# Taking an Test Image 2\n",
        "test_image2 = test_data[1473][0]"
      ],
      "metadata": {
        "id": "ayWJaAyyc4oS"
      },
      "execution_count": 77,
      "outputs": []
    },
    {
      "cell_type": "code",
      "source": [
        "plt.imshow(test_image2.reshape(28, 28))"
      ],
      "metadata": {
        "id": "D7y8rzVJc7jY",
        "outputId": "4cec8a5f-2422-43c9-9879-8e7331e7cb78",
        "colab": {
          "base_uri": "https://localhost:8080/",
          "height": 447
        }
      },
      "execution_count": 78,
      "outputs": [
        {
          "output_type": "execute_result",
          "data": {
            "text/plain": [
              "<matplotlib.image.AxesImage at 0x7efe1cbd52b0>"
            ]
          },
          "metadata": {},
          "execution_count": 78
        },
        {
          "output_type": "display_data",
          "data": {
            "text/plain": [
              "<Figure size 640x480 with 1 Axes>"
            ],
            "image/png": "[encoded data removed]"
          },
          "metadata": {}
        }
      ]
    },
    {
      "cell_type": "code",
      "source": [
        "# Another Prediction: Passing the image through our model\n",
        "model.eval()\n",
        "\n",
        "with torch.no_grad():\n",
        "  output2 = model(test_image2.view(1, 1, 28, 28))"
      ],
      "metadata": {
        "id": "5b5-PDMXc-05"
      },
      "execution_count": 79,
      "outputs": []
    },
    {
      "cell_type": "code",
      "source": [
        "# Check the new prediction\n",
        "classes[output2.argmax()]"
      ],
      "metadata": {
        "id": "UAzN9ZZwdEL6",
        "outputId": "172a29cc-b04d-48ec-bf88-deafdca025ee",
        "colab": {
          "base_uri": "https://localhost:8080/",
          "height": 35
        }
      },
      "execution_count": 83,
      "outputs": [
        {
          "output_type": "execute_result",
          "data": {
            "text/plain": [
              "'Sneaker'"
            ],
            "application/vnd.google.colaboratory.intrinsic+json": {
              "type": "string"
            }
          },
          "metadata": {},
          "execution_count": 83
        }
      ]
    }
  ]
}